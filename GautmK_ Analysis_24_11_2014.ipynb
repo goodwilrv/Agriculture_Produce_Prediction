{
 "cells": [
  {
   "cell_type": "markdown",
   "metadata": {},
   "source": [
    "Author :Gautam Kumar, gautamk2017@email.iimcal.ac.in, +16728339754\n"
   ]
  },
  {
   "cell_type": "code",
   "execution_count": null,
   "metadata": {},
   "outputs": [],
   "source": [
    "import pandas as pd\n",
    "import numpy as np\n",
    "import sklearn\n",
    "from sklearn.model_selection import train_test_split, TimeSeriesSplit, GridSearchCV\n",
    "from sklearn.linear_model import LinearRegression\n",
    "from sklearn.ensemble import RandomForestRegressor\n",
    "from xgboost import XGBRegressor\n",
    "from sklearn.metrics import mean_squared_error, mean_absolute_error\n",
    "from sklearn.preprocessing import OneHotEncoder, StandardScaler\n",
    "from sklearn.compose import ColumnTransformer\n",
    "from sklearn.pipeline import Pipeline\n",
    "import matplotlib.pyplot as plt\n",
    "import seaborn as sns"
   ]
  },
  {
   "cell_type": "code",
   "execution_count": 2,
   "metadata": {},
   "outputs": [],
   "source": [
    "import pandas as pd\n",
    "import numpy as np\n",
    "import seaborn as sns\n",
    "import missingno as msno\n",
    "from scipy.stats import chi2_contingency, ttest_ind"
   ]
  },
  {
   "cell_type": "markdown",
   "metadata": {},
   "source": [
    "Please change this working directory based on paths on your system."
   ]
  },
  {
   "cell_type": "code",
   "execution_count": 3,
   "metadata": {},
   "outputs": [],
   "source": [
    "working_dir = \"***************************\""
   ]
  },
  {
   "cell_type": "markdown",
   "metadata": {},
   "source": [
    "Lets load the dataset and look at shape and first few rows of this dataset."
   ]
  },
  {
   "cell_type": "code",
   "execution_count": 4,
   "metadata": {},
   "outputs": [],
   "source": [
    "backup_main_df = pd.read_csv(\"dataset.csv\")"
   ]
  },
  {
   "cell_type": "code",
   "execution_count": 5,
   "metadata": {},
   "outputs": [],
   "source": [
    "main_df = backup_main_df.copy()"
   ]
  },
  {
   "cell_type": "code",
   "execution_count": 6,
   "metadata": {},
   "outputs": [
    {
     "data": {
      "text/plain": [
       "(1000, 9)"
      ]
     },
     "execution_count": 6,
     "metadata": {},
     "output_type": "execute_result"
    }
   ],
   "source": [
    "main_df.shape"
   ]
  },
  {
   "cell_type": "code",
   "execution_count": 7,
   "metadata": {},
   "outputs": [
    {
     "data": {
      "text/html": [
       "<div>\n",
       "<style scoped>\n",
       "    .dataframe tbody tr th:only-of-type {\n",
       "        vertical-align: middle;\n",
       "    }\n",
       "\n",
       "    .dataframe tbody tr th {\n",
       "        vertical-align: top;\n",
       "    }\n",
       "\n",
       "    .dataframe thead th {\n",
       "        text-align: right;\n",
       "    }\n",
       "</style>\n",
       "<table border=\"1\" class=\"dataframe\">\n",
       "  <thead>\n",
       "    <tr style=\"text-align: right;\">\n",
       "      <th></th>\n",
       "      <th>id</th>\n",
       "      <th>water</th>\n",
       "      <th>uv</th>\n",
       "      <th>area</th>\n",
       "      <th>fertilizer_usage</th>\n",
       "      <th>yield</th>\n",
       "      <th>pesticides</th>\n",
       "      <th>region</th>\n",
       "      <th>categories</th>\n",
       "    </tr>\n",
       "  </thead>\n",
       "  <tbody>\n",
       "    <tr>\n",
       "      <th>36</th>\n",
       "      <td>586</td>\n",
       "      <td>5340.0</td>\n",
       "      <td>91.224</td>\n",
       "      <td>8.429</td>\n",
       "      <td>2</td>\n",
       "      <td>67.321</td>\n",
       "      <td>2.933</td>\n",
       "      <td>0</td>\n",
       "      <td>c,a</td>\n",
       "    </tr>\n",
       "  </tbody>\n",
       "</table>\n",
       "</div>"
      ],
      "text/plain": [
       "     id   water      uv   area  fertilizer_usage   yield  pesticides  region  \\\n",
       "36  586  5340.0  91.224  8.429                 2  67.321       2.933       0   \n",
       "\n",
       "   categories  \n",
       "36        c,a  "
      ]
     },
     "execution_count": 7,
     "metadata": {},
     "output_type": "execute_result"
    }
   ],
   "source": [
    "main_df.loc[main_df.id == 586,:]"
   ]
  },
  {
   "cell_type": "code",
   "execution_count": 8,
   "metadata": {},
   "outputs": [
    {
     "data": {
      "text/html": [
       "<div>\n",
       "<style scoped>\n",
       "    .dataframe tbody tr th:only-of-type {\n",
       "        vertical-align: middle;\n",
       "    }\n",
       "\n",
       "    .dataframe tbody tr th {\n",
       "        vertical-align: top;\n",
       "    }\n",
       "\n",
       "    .dataframe thead th {\n",
       "        text-align: right;\n",
       "    }\n",
       "</style>\n",
       "<table border=\"1\" class=\"dataframe\">\n",
       "  <thead>\n",
       "    <tr style=\"text-align: right;\">\n",
       "      <th></th>\n",
       "      <th>id</th>\n",
       "      <th>water</th>\n",
       "      <th>uv</th>\n",
       "      <th>area</th>\n",
       "      <th>fertilizer_usage</th>\n",
       "      <th>yield</th>\n",
       "      <th>pesticides</th>\n",
       "      <th>region</th>\n",
       "      <th>categories</th>\n",
       "    </tr>\n",
       "  </thead>\n",
       "  <tbody>\n",
       "    <tr>\n",
       "      <th>0</th>\n",
       "      <td>169</td>\n",
       "      <td>5.615</td>\n",
       "      <td>65.281</td>\n",
       "      <td>3.230</td>\n",
       "      <td>0</td>\n",
       "      <td>7.977</td>\n",
       "      <td>8.969</td>\n",
       "      <td>0</td>\n",
       "      <td>b,a,c</td>\n",
       "    </tr>\n",
       "    <tr>\n",
       "      <th>1</th>\n",
       "      <td>476</td>\n",
       "      <td>7.044</td>\n",
       "      <td>73.319</td>\n",
       "      <td>9.081</td>\n",
       "      <td>0</td>\n",
       "      <td>23.009</td>\n",
       "      <td>7.197</td>\n",
       "      <td>0</td>\n",
       "      <td>c,a,d</td>\n",
       "    </tr>\n",
       "    <tr>\n",
       "      <th>2</th>\n",
       "      <td>152</td>\n",
       "      <td>5.607</td>\n",
       "      <td>60.038</td>\n",
       "      <td>2.864</td>\n",
       "      <td>2</td>\n",
       "      <td>23.019</td>\n",
       "      <td>7.424</td>\n",
       "      <td>0</td>\n",
       "      <td>d,a</td>\n",
       "    </tr>\n",
       "    <tr>\n",
       "      <th>3</th>\n",
       "      <td>293</td>\n",
       "      <td>9.346</td>\n",
       "      <td>64.719</td>\n",
       "      <td>2.797</td>\n",
       "      <td>2</td>\n",
       "      <td>28.066</td>\n",
       "      <td>1.256</td>\n",
       "      <td>0</td>\n",
       "      <td>d</td>\n",
       "    </tr>\n",
       "    <tr>\n",
       "      <th>4</th>\n",
       "      <td>10</td>\n",
       "      <td>7.969</td>\n",
       "      <td>NaN</td>\n",
       "      <td>5.407</td>\n",
       "      <td>1</td>\n",
       "      <td>29.140</td>\n",
       "      <td>0.274</td>\n",
       "      <td>0</td>\n",
       "      <td>c,d</td>\n",
       "    </tr>\n",
       "  </tbody>\n",
       "</table>\n",
       "</div>"
      ],
      "text/plain": [
       "    id  water      uv   area  fertilizer_usage   yield  pesticides  region  \\\n",
       "0  169  5.615  65.281  3.230                 0   7.977       8.969       0   \n",
       "1  476  7.044  73.319  9.081                 0  23.009       7.197       0   \n",
       "2  152  5.607  60.038  2.864                 2  23.019       7.424       0   \n",
       "3  293  9.346  64.719  2.797                 2  28.066       1.256       0   \n",
       "4   10  7.969     NaN  5.407                 1  29.140       0.274       0   \n",
       "\n",
       "  categories  \n",
       "0      b,a,c  \n",
       "1      c,a,d  \n",
       "2        d,a  \n",
       "3          d  \n",
       "4        c,d  "
      ]
     },
     "execution_count": 8,
     "metadata": {},
     "output_type": "execute_result"
    }
   ],
   "source": [
    "main_df.head()"
   ]
  },
  {
   "cell_type": "markdown",
   "metadata": {},
   "source": [
    "so, the dataset has 1000 rows and 9 columns. Now lets look at the datatypes of columns of this dataframe. We  see tha the commma separated list is called pesticides-used in the document's problem statement, but in the dataset that column is called categories."
   ]
  },
  {
   "cell_type": "code",
   "execution_count": 9,
   "metadata": {},
   "outputs": [
    {
     "name": "stdout",
     "output_type": "stream",
     "text": [
      "<class 'pandas.core.frame.DataFrame'>\n",
      "RangeIndex: 1000 entries, 0 to 999\n",
      "Data columns (total 9 columns):\n",
      " #   Column            Non-Null Count  Dtype  \n",
      "---  ------            --------------  -----  \n",
      " 0   id                1000 non-null   int64  \n",
      " 1   water             958 non-null    float64\n",
      " 2   uv                949 non-null    float64\n",
      " 3   area              1000 non-null   float64\n",
      " 4   fertilizer_usage  1000 non-null   int64  \n",
      " 5   yield             1000 non-null   float64\n",
      " 6   pesticides        1000 non-null   float64\n",
      " 7   region            1000 non-null   int64  \n",
      " 8   categories        1000 non-null   object \n",
      "dtypes: float64(5), int64(3), object(1)\n",
      "memory usage: 70.4+ KB\n"
     ]
    }
   ],
   "source": [
    "main_df.info()"
   ]
  },
  {
   "cell_type": "markdown",
   "metadata": {},
   "source": [
    "We see that only categories are non numeric types and rest columns are of numeric types.Although we are getting numeric values for region,fertilizer usage these are categorical values and has been coded as numeric numbers. But we have to considet them as categorical levels. We also See that count of Non Null values are less than number of rows for columns water(958) and uv(949), which means that there are missing values(NAs) in these columns."
   ]
  },
  {
   "cell_type": "markdown",
   "metadata": {},
   "source": [
    "Lets look at the statistical summary of the dataset"
   ]
  },
  {
   "cell_type": "code",
   "execution_count": 10,
   "metadata": {},
   "outputs": [
    {
     "data": {
      "text/html": [
       "<div>\n",
       "<style scoped>\n",
       "    .dataframe tbody tr th:only-of-type {\n",
       "        vertical-align: middle;\n",
       "    }\n",
       "\n",
       "    .dataframe tbody tr th {\n",
       "        vertical-align: top;\n",
       "    }\n",
       "\n",
       "    .dataframe thead th {\n",
       "        text-align: right;\n",
       "    }\n",
       "</style>\n",
       "<table border=\"1\" class=\"dataframe\">\n",
       "  <thead>\n",
       "    <tr style=\"text-align: right;\">\n",
       "      <th></th>\n",
       "      <th>id</th>\n",
       "      <th>water</th>\n",
       "      <th>uv</th>\n",
       "      <th>area</th>\n",
       "      <th>fertilizer_usage</th>\n",
       "      <th>yield</th>\n",
       "      <th>pesticides</th>\n",
       "      <th>region</th>\n",
       "    </tr>\n",
       "  </thead>\n",
       "  <tbody>\n",
       "    <tr>\n",
       "      <th>count</th>\n",
       "      <td>1000.000000</td>\n",
       "      <td>958.000000</td>\n",
       "      <td>949.000000</td>\n",
       "      <td>1000.000000</td>\n",
       "      <td>1000.00000</td>\n",
       "      <td>1000.000000</td>\n",
       "      <td>1000.000000</td>\n",
       "      <td>1000.000000</td>\n",
       "    </tr>\n",
       "    <tr>\n",
       "      <th>mean</th>\n",
       "      <td>499.500000</td>\n",
       "      <td>12.223546</td>\n",
       "      <td>73.957488</td>\n",
       "      <td>8.098848</td>\n",
       "      <td>2.12300</td>\n",
       "      <td>58.758571</td>\n",
       "      <td>3.452301</td>\n",
       "      <td>3.039000</td>\n",
       "    </tr>\n",
       "    <tr>\n",
       "      <th>std</th>\n",
       "      <td>288.819436</td>\n",
       "      <td>172.335566</td>\n",
       "      <td>9.904063</td>\n",
       "      <td>2.692632</td>\n",
       "      <td>1.52256</td>\n",
       "      <td>24.563683</td>\n",
       "      <td>2.076921</td>\n",
       "      <td>1.883886</td>\n",
       "    </tr>\n",
       "    <tr>\n",
       "      <th>min</th>\n",
       "      <td>0.000000</td>\n",
       "      <td>0.072000</td>\n",
       "      <td>45.264000</td>\n",
       "      <td>0.263000</td>\n",
       "      <td>0.00000</td>\n",
       "      <td>2.843000</td>\n",
       "      <td>0.014000</td>\n",
       "      <td>0.000000</td>\n",
       "    </tr>\n",
       "    <tr>\n",
       "      <th>25%</th>\n",
       "      <td>249.750000</td>\n",
       "      <td>4.584750</td>\n",
       "      <td>66.502000</td>\n",
       "      <td>6.297000</td>\n",
       "      <td>1.00000</td>\n",
       "      <td>40.698000</td>\n",
       "      <td>1.804500</td>\n",
       "      <td>2.000000</td>\n",
       "    </tr>\n",
       "    <tr>\n",
       "      <th>50%</th>\n",
       "      <td>499.500000</td>\n",
       "      <td>6.476000</td>\n",
       "      <td>73.689000</td>\n",
       "      <td>7.987500</td>\n",
       "      <td>2.00000</td>\n",
       "      <td>55.602500</td>\n",
       "      <td>3.275500</td>\n",
       "      <td>2.000000</td>\n",
       "    </tr>\n",
       "    <tr>\n",
       "      <th>75%</th>\n",
       "      <td>749.250000</td>\n",
       "      <td>8.758750</td>\n",
       "      <td>80.554000</td>\n",
       "      <td>9.900250</td>\n",
       "      <td>3.00000</td>\n",
       "      <td>73.645500</td>\n",
       "      <td>4.916000</td>\n",
       "      <td>5.000000</td>\n",
       "    </tr>\n",
       "    <tr>\n",
       "      <th>max</th>\n",
       "      <td>999.000000</td>\n",
       "      <td>5340.000000</td>\n",
       "      <td>106.310000</td>\n",
       "      <td>18.311000</td>\n",
       "      <td>5.00000</td>\n",
       "      <td>148.845000</td>\n",
       "      <td>9.532000</td>\n",
       "      <td>6.000000</td>\n",
       "    </tr>\n",
       "  </tbody>\n",
       "</table>\n",
       "</div>"
      ],
      "text/plain": [
       "                id        water          uv         area  fertilizer_usage  \\\n",
       "count  1000.000000   958.000000  949.000000  1000.000000        1000.00000   \n",
       "mean    499.500000    12.223546   73.957488     8.098848           2.12300   \n",
       "std     288.819436   172.335566    9.904063     2.692632           1.52256   \n",
       "min       0.000000     0.072000   45.264000     0.263000           0.00000   \n",
       "25%     249.750000     4.584750   66.502000     6.297000           1.00000   \n",
       "50%     499.500000     6.476000   73.689000     7.987500           2.00000   \n",
       "75%     749.250000     8.758750   80.554000     9.900250           3.00000   \n",
       "max     999.000000  5340.000000  106.310000    18.311000           5.00000   \n",
       "\n",
       "             yield   pesticides       region  \n",
       "count  1000.000000  1000.000000  1000.000000  \n",
       "mean     58.758571     3.452301     3.039000  \n",
       "std      24.563683     2.076921     1.883886  \n",
       "min       2.843000     0.014000     0.000000  \n",
       "25%      40.698000     1.804500     2.000000  \n",
       "50%      55.602500     3.275500     2.000000  \n",
       "75%      73.645500     4.916000     5.000000  \n",
       "max     148.845000     9.532000     6.000000  "
      ]
     },
     "execution_count": 10,
     "metadata": {},
     "output_type": "execute_result"
    }
   ],
   "source": [
    "main_df.describe()"
   ]
  },
  {
   "cell_type": "code",
   "execution_count": null,
   "metadata": {},
   "outputs": [],
   "source": []
  },
  {
   "cell_type": "markdown",
   "metadata": {},
   "source": [
    "We see that only categories are non numeric types and rest columns are of numeric types.Although we are getting numeric values for region,fertilizer usage these are categorical values and has been coded as numeric numbers. But we have to considet them as categorical levels. We also See that count of Non Null values are less than number of rows for columns water(958) and uv(949), which means that there are missing values(NAs) in these columns.\n",
    "\n",
    "Yield has an average of 58.75 but has signs of right skewed distribution which means median < mean.\n",
    "\n",
    "Also we see that water column has max value of 5340 while its average is 12.22, so this value with 5340 looks like an outlier/noise. We will handle it while doing exploratory data analysis. Now lets see the number of unique values in region and fertilizer_usage column."
   ]
  },
  {
   "cell_type": "code",
   "execution_count": 11,
   "metadata": {},
   "outputs": [
    {
     "data": {
      "text/plain": [
       "array([0, 1, 2, 3, 4, 5, 6])"
      ]
     },
     "execution_count": 11,
     "metadata": {},
     "output_type": "execute_result"
    }
   ],
   "source": [
    "main_df.region.unique()"
   ]
  },
  {
   "cell_type": "code",
   "execution_count": 12,
   "metadata": {},
   "outputs": [
    {
     "data": {
      "text/plain": [
       "array([0, 2, 1, 4, 3, 5])"
      ]
     },
     "execution_count": 12,
     "metadata": {},
     "output_type": "execute_result"
    }
   ],
   "source": [
    "main_df.fertilizer_usage.unique()"
   ]
  },
  {
   "cell_type": "code",
   "execution_count": 13,
   "metadata": {},
   "outputs": [
    {
     "data": {
      "text/html": [
       "<div>\n",
       "<style scoped>\n",
       "    .dataframe tbody tr th:only-of-type {\n",
       "        vertical-align: middle;\n",
       "    }\n",
       "\n",
       "    .dataframe tbody tr th {\n",
       "        vertical-align: top;\n",
       "    }\n",
       "\n",
       "    .dataframe thead th {\n",
       "        text-align: right;\n",
       "    }\n",
       "</style>\n",
       "<table border=\"1\" class=\"dataframe\">\n",
       "  <thead>\n",
       "    <tr style=\"text-align: right;\">\n",
       "      <th></th>\n",
       "      <th>id</th>\n",
       "      <th>water</th>\n",
       "      <th>uv</th>\n",
       "      <th>area</th>\n",
       "      <th>fertilizer_usage</th>\n",
       "      <th>yield</th>\n",
       "      <th>pesticides</th>\n",
       "      <th>region</th>\n",
       "      <th>categories</th>\n",
       "    </tr>\n",
       "  </thead>\n",
       "  <tbody>\n",
       "    <tr>\n",
       "      <th>36</th>\n",
       "      <td>586</td>\n",
       "      <td>5340.0</td>\n",
       "      <td>91.224</td>\n",
       "      <td>8.429</td>\n",
       "      <td>2</td>\n",
       "      <td>67.321</td>\n",
       "      <td>2.933</td>\n",
       "      <td>0</td>\n",
       "      <td>c,a</td>\n",
       "    </tr>\n",
       "  </tbody>\n",
       "</table>\n",
       "</div>"
      ],
      "text/plain": [
       "     id   water      uv   area  fertilizer_usage   yield  pesticides  region  \\\n",
       "36  586  5340.0  91.224  8.429                 2  67.321       2.933       0   \n",
       "\n",
       "   categories  \n",
       "36        c,a  "
      ]
     },
     "execution_count": 13,
     "metadata": {},
     "output_type": "execute_result"
    }
   ],
   "source": [
    "main_df.loc[main_df.id == 586,:]"
   ]
  },
  {
   "cell_type": "markdown",
   "metadata": {},
   "source": [
    "We see that region and fertilizer_usage have 7 and 6 unique values for 1000 rows of dataset, so these are categorical columns. So we will apply string data type for these two columns."
   ]
  },
  {
   "cell_type": "code",
   "execution_count": 14,
   "metadata": {},
   "outputs": [],
   "source": [
    "main_df.region = main_df.region.apply(str)\n",
    "main_df.fertilizer_usage = main_df.fertilizer_usage.apply(str)"
   ]
  },
  {
   "cell_type": "code",
   "execution_count": 15,
   "metadata": {},
   "outputs": [
    {
     "data": {
      "text/html": [
       "<div>\n",
       "<style scoped>\n",
       "    .dataframe tbody tr th:only-of-type {\n",
       "        vertical-align: middle;\n",
       "    }\n",
       "\n",
       "    .dataframe tbody tr th {\n",
       "        vertical-align: top;\n",
       "    }\n",
       "\n",
       "    .dataframe thead th {\n",
       "        text-align: right;\n",
       "    }\n",
       "</style>\n",
       "<table border=\"1\" class=\"dataframe\">\n",
       "  <thead>\n",
       "    <tr style=\"text-align: right;\">\n",
       "      <th></th>\n",
       "      <th>id</th>\n",
       "      <th>water</th>\n",
       "      <th>uv</th>\n",
       "      <th>area</th>\n",
       "      <th>fertilizer_usage</th>\n",
       "      <th>yield</th>\n",
       "      <th>pesticides</th>\n",
       "      <th>region</th>\n",
       "      <th>categories</th>\n",
       "    </tr>\n",
       "  </thead>\n",
       "  <tbody>\n",
       "    <tr>\n",
       "      <th>36</th>\n",
       "      <td>586</td>\n",
       "      <td>5340.0</td>\n",
       "      <td>91.224</td>\n",
       "      <td>8.429</td>\n",
       "      <td>2</td>\n",
       "      <td>67.321</td>\n",
       "      <td>2.933</td>\n",
       "      <td>0</td>\n",
       "      <td>c,a</td>\n",
       "    </tr>\n",
       "  </tbody>\n",
       "</table>\n",
       "</div>"
      ],
      "text/plain": [
       "     id   water      uv   area fertilizer_usage   yield  pesticides region  \\\n",
       "36  586  5340.0  91.224  8.429                2  67.321       2.933      0   \n",
       "\n",
       "   categories  \n",
       "36        c,a  "
      ]
     },
     "execution_count": 15,
     "metadata": {},
     "output_type": "execute_result"
    }
   ],
   "source": [
    "main_df.loc[main_df.id == 586,:]"
   ]
  },
  {
   "cell_type": "markdown",
   "metadata": {},
   "source": [
    "# Missing Value Analysis"
   ]
  },
  {
   "cell_type": "markdown",
   "metadata": {},
   "source": [
    "We will check if missing values are random or we see any pattern in the missing values in the columns water and uv."
   ]
  },
  {
   "cell_type": "code",
   "execution_count": 16,
   "metadata": {},
   "outputs": [
    {
     "data": {
      "text/plain": [
       "id                   0\n",
       "water               42\n",
       "uv                  51\n",
       "area                 0\n",
       "fertilizer_usage     0\n",
       "yield                0\n",
       "pesticides           0\n",
       "region               0\n",
       "categories           0\n",
       "dtype: int64"
      ]
     },
     "execution_count": 16,
     "metadata": {},
     "output_type": "execute_result"
    }
   ],
   "source": [
    "main_df.isna().sum()"
   ]
  },
  {
   "cell_type": "code",
   "execution_count": 17,
   "metadata": {},
   "outputs": [],
   "source": [
    "main_water_NA_df = main_df.loc[main_df.water.isna(),:]"
   ]
  },
  {
   "cell_type": "markdown",
   "metadata": {},
   "source": [
    "main_water_NA_df.head()"
   ]
  },
  {
   "cell_type": "code",
   "execution_count": 18,
   "metadata": {},
   "outputs": [
    {
     "data": {
      "text/plain": [
       "fertilizer_usage\n",
       "1    9\n",
       "2    9\n",
       "0    8\n",
       "3    8\n",
       "4    7\n",
       "5    1\n",
       "Name: count, dtype: int64"
      ]
     },
     "execution_count": 18,
     "metadata": {},
     "output_type": "execute_result"
    }
   ],
   "source": [
    "main_water_NA_df.fertilizer_usage.value_counts()"
   ]
  },
  {
   "cell_type": "markdown",
   "metadata": {},
   "source": [
    "we see that almost all the categories of fertilizer usage have 7-9 missing rows with missing value except cateogory - 1, which has just 1 row with missing value. It will beed further business context to see if category-1 corresponds to any specific situation which can result in missing data."
   ]
  },
  {
   "cell_type": "code",
   "execution_count": 19,
   "metadata": {},
   "outputs": [
    {
     "data": {
      "text/plain": [
       "region\n",
       "2    14\n",
       "6     9\n",
       "1     6\n",
       "0     5\n",
       "3     3\n",
       "4     3\n",
       "5     2\n",
       "Name: count, dtype: int64"
      ]
     },
     "execution_count": 19,
     "metadata": {},
     "output_type": "execute_result"
    }
   ],
   "source": [
    "main_water_NA_df.region.value_counts()"
   ]
  },
  {
   "cell_type": "markdown",
   "metadata": {},
   "source": [
    "We see that, different regions have missing rows counts region-2 having highest 14 rows, vs. region-2 having 2 rows. But lets check using a chi-suare test if this missingness is random. Lets look at the heatmap for null values in the dataframe."
   ]
  },
  {
   "cell_type": "code",
   "execution_count": 20,
   "metadata": {},
   "outputs": [
    {
     "data": {
      "text/plain": [
       "<Axes: >"
      ]
     },
     "execution_count": 20,
     "metadata": {},
     "output_type": "execute_result"
    },
    {
     "data": {
      "image/png": "[encoded data removed]",
      "text/plain": [
       "<Figure size 432x288 with 1 Axes>"
      ]
     },
     "metadata": {
      "needs_background": "light"
     },
     "output_type": "display_data"
    }
   ],
   "source": [
    "sns.heatmap(main_df.isnull(), cbar=False, cmap='viridis')\n"
   ]
  },
  {
   "cell_type": "markdown",
   "metadata": {},
   "source": [
    "We see that water and uv both have similar missingness pattern."
   ]
  },
  {
   "cell_type": "code",
   "execution_count": 21,
   "metadata": {},
   "outputs": [
    {
     "name": "stdout",
     "output_type": "stream",
     "text": [
      "P-value for water missingness with uv: 0.5123616896597184\n",
      "P-value for water missingness with region: 0.6425883244740025\n",
      "P-value for uv missingness with water: 0.4123495264651363\n",
      "P-value for uv missingness with region: 0.9252302604347016\n",
      "P-value for region missingness with water: 1.0\n",
      "P-value for region missingness with uv: 1.0\n"
     ]
    }
   ],
   "source": [
    "#    Perform Chi-Square test between missing values in a categorical column and another categorical column.\n",
    "\n",
    "from scipy.stats import chi2_contingency, ttest_ind\n",
    "\n",
    "# 3. Statistical Tests for Patterns in Missingness\n",
    "def chi_square_missingness(df, cat_col, other_cat_col):\n",
    "    \"\"\"\n",
    "\n",
    "    \"\"\"\n",
    "    # Create a contingency table\n",
    "    contingency_table = pd.crosstab(df[cat_col].isnull(), df[other_cat_col])\n",
    "    chi2, p, dof, _ = chi2_contingency(contingency_table)\n",
    "    return p\n",
    "\n",
    "for cat_col in ['water', 'uv','region']:\n",
    "    for other_col in ['water', 'uv','region']:\n",
    "        if cat_col != other_col:\n",
    "            p_value = chi_square_missingness(main_df, cat_col, other_col)\n",
    "            print(f\"P-value for {cat_col} missingness with {other_col}: {p_value}\")\n"
   ]
  },
  {
   "cell_type": "markdown",
   "metadata": {},
   "source": [
    "We see that all the pairs of columns have a p-value >= 0.05 for chi-square test which means that, missingness here is random.Lets check the expected values of numeric columns with respect to missing data and non missing data set."
   ]
  },
  {
   "cell_type": "code",
   "execution_count": 22,
   "metadata": {},
   "outputs": [
    {
     "name": "stdout",
     "output_type": "stream",
     "text": [
      "P-value for water missingness with area: 0.09304920773226674\n",
      "P-value for water missingness with yield: 0.48115485236933664\n",
      "P-value for water missingness with pesticides: 0.8748421967982736\n",
      "P-value for uv missingness with area: 0.8898932267802974\n",
      "P-value for uv missingness with yield: 0.5749233490776298\n",
      "P-value for uv missingness with pesticides: 0.8309638688301395\n"
     ]
    }
   ],
   "source": [
    "#Perform T-test between missing and non-missing groups in a numeric column.\n",
    "def t_test_missingness(df, cat_col, num_col):\n",
    "    missing = df[df[cat_col].isnull()][num_col]\n",
    "    non_missing = df[df[cat_col].notnull()][num_col]\n",
    "    t_stat, p_value = ttest_ind(missing, non_missing, nan_policy='omit')\n",
    "    return p_value\n",
    "\n",
    "for cat_col in ['water', 'uv']:\n",
    "    for num_col in ['area','yield','pesticides']:\n",
    "        p_value = t_test_missingness(main_df, cat_col, num_col)\n",
    "        print(f\"P-value for {cat_col} missingness with {num_col}: {p_value}\")"
   ]
  },
  {
   "cell_type": "markdown",
   "metadata": {},
   "source": [
    "We see that all the pairs of columns have p-value >= 0.05 for t-test between pairs of categorical and numerical columns, which means that missingness is random with no pattern. We will replace the missing rows with mean of the column."
   ]
  },
  {
   "cell_type": "code",
   "execution_count": 23,
   "metadata": {},
   "outputs": [],
   "source": [
    "main_df['water'] = main_df['water'].fillna(main_df['water'].mean())\n",
    "main_df['uv'] = main_df['uv'].fillna(main_df['uv'].mean())"
   ]
  },
  {
   "cell_type": "code",
   "execution_count": 24,
   "metadata": {},
   "outputs": [
    {
     "data": {
      "text/html": [
       "<div>\n",
       "<style scoped>\n",
       "    .dataframe tbody tr th:only-of-type {\n",
       "        vertical-align: middle;\n",
       "    }\n",
       "\n",
       "    .dataframe tbody tr th {\n",
       "        vertical-align: top;\n",
       "    }\n",
       "\n",
       "    .dataframe thead th {\n",
       "        text-align: right;\n",
       "    }\n",
       "</style>\n",
       "<table border=\"1\" class=\"dataframe\">\n",
       "  <thead>\n",
       "    <tr style=\"text-align: right;\">\n",
       "      <th></th>\n",
       "      <th>id</th>\n",
       "      <th>water</th>\n",
       "      <th>uv</th>\n",
       "      <th>area</th>\n",
       "      <th>fertilizer_usage</th>\n",
       "      <th>yield</th>\n",
       "      <th>pesticides</th>\n",
       "      <th>region</th>\n",
       "      <th>categories</th>\n",
       "    </tr>\n",
       "  </thead>\n",
       "  <tbody>\n",
       "    <tr>\n",
       "      <th>0</th>\n",
       "      <td>169</td>\n",
       "      <td>5.615</td>\n",
       "      <td>65.281000</td>\n",
       "      <td>3.230</td>\n",
       "      <td>0</td>\n",
       "      <td>7.977</td>\n",
       "      <td>8.969</td>\n",
       "      <td>0</td>\n",
       "      <td>b,a,c</td>\n",
       "    </tr>\n",
       "    <tr>\n",
       "      <th>1</th>\n",
       "      <td>476</td>\n",
       "      <td>7.044</td>\n",
       "      <td>73.319000</td>\n",
       "      <td>9.081</td>\n",
       "      <td>0</td>\n",
       "      <td>23.009</td>\n",
       "      <td>7.197</td>\n",
       "      <td>0</td>\n",
       "      <td>c,a,d</td>\n",
       "    </tr>\n",
       "    <tr>\n",
       "      <th>2</th>\n",
       "      <td>152</td>\n",
       "      <td>5.607</td>\n",
       "      <td>60.038000</td>\n",
       "      <td>2.864</td>\n",
       "      <td>2</td>\n",
       "      <td>23.019</td>\n",
       "      <td>7.424</td>\n",
       "      <td>0</td>\n",
       "      <td>d,a</td>\n",
       "    </tr>\n",
       "    <tr>\n",
       "      <th>3</th>\n",
       "      <td>293</td>\n",
       "      <td>9.346</td>\n",
       "      <td>64.719000</td>\n",
       "      <td>2.797</td>\n",
       "      <td>2</td>\n",
       "      <td>28.066</td>\n",
       "      <td>1.256</td>\n",
       "      <td>0</td>\n",
       "      <td>d</td>\n",
       "    </tr>\n",
       "    <tr>\n",
       "      <th>4</th>\n",
       "      <td>10</td>\n",
       "      <td>7.969</td>\n",
       "      <td>73.957488</td>\n",
       "      <td>5.407</td>\n",
       "      <td>1</td>\n",
       "      <td>29.140</td>\n",
       "      <td>0.274</td>\n",
       "      <td>0</td>\n",
       "      <td>c,d</td>\n",
       "    </tr>\n",
       "  </tbody>\n",
       "</table>\n",
       "</div>"
      ],
      "text/plain": [
       "    id  water         uv   area fertilizer_usage   yield  pesticides region  \\\n",
       "0  169  5.615  65.281000  3.230                0   7.977       8.969      0   \n",
       "1  476  7.044  73.319000  9.081                0  23.009       7.197      0   \n",
       "2  152  5.607  60.038000  2.864                2  23.019       7.424      0   \n",
       "3  293  9.346  64.719000  2.797                2  28.066       1.256      0   \n",
       "4   10  7.969  73.957488  5.407                1  29.140       0.274      0   \n",
       "\n",
       "  categories  \n",
       "0      b,a,c  \n",
       "1      c,a,d  \n",
       "2        d,a  \n",
       "3          d  \n",
       "4        c,d  "
      ]
     },
     "execution_count": 24,
     "metadata": {},
     "output_type": "execute_result"
    }
   ],
   "source": [
    "main_df.head()"
   ]
  },
  {
   "cell_type": "markdown",
   "metadata": {},
   "source": [
    "# Outlier detection"
   ]
  },
  {
   "cell_type": "markdown",
   "metadata": {},
   "source": [
    "Lets see distribution of numeric columns."
   ]
  },
  {
   "cell_type": "code",
   "execution_count": 25,
   "metadata": {},
   "outputs": [
    {
     "data": {
      "text/plain": [
       "<Axes: >"
      ]
     },
     "execution_count": 25,
     "metadata": {},
     "output_type": "execute_result"
    },
    {
     "data": {
      "image/png": "[encoded data removed]",
      "text/plain": [
       "<Figure size 432x288 with 1 Axes>"
      ]
     },
     "metadata": {
      "needs_background": "light"
     },
     "output_type": "display_data"
    }
   ],
   "source": [
    "main_df.loc[:, ~main_df.columns.isin(['id','categories'])].boxplot()"
   ]
  },
  {
   "cell_type": "markdown",
   "metadata": {},
   "source": [
    "The box plot shows there are two values in water and uv columns which are statistically outliers(based in IQR) based on inter quartile range so looks like outliers. This value is water(5340), it does look like a clear outlier. becaue the value is way off than other values, lets remove this specific value and then look at the box plot again."
   ]
  },
  {
   "cell_type": "code",
   "execution_count": 26,
   "metadata": {},
   "outputs": [],
   "source": [
    "main_df = main_df.loc[main_df.id != 586,:]"
   ]
  },
  {
   "cell_type": "markdown",
   "metadata": {},
   "source": []
  },
  {
   "cell_type": "code",
   "execution_count": 27,
   "metadata": {},
   "outputs": [
    {
     "data": {
      "text/plain": [
       "<Axes: >"
      ]
     },
     "execution_count": 27,
     "metadata": {},
     "output_type": "execute_result"
    },
    {
     "data": {
      "image/png": "[encoded data removed]",
      "text/plain": [
       "<Figure size 432x288 with 1 Axes>"
      ]
     },
     "metadata": {
      "needs_background": "light"
     },
     "output_type": "display_data"
    }
   ],
   "source": [
    "main_df.loc[:, ~main_df.columns.isin(['id','categories'])].boxplot()"
   ]
  },
  {
   "cell_type": "code",
   "execution_count": null,
   "metadata": {},
   "outputs": [],
   "source": []
  },
  {
   "cell_type": "code",
   "execution_count": 28,
   "metadata": {},
   "outputs": [
    {
     "name": "stdout",
     "output_type": "stream",
     "text": [
      "Requirement already up-to-date: matplotlib in /Users/user/opt/anaconda3/lib/python3.8/site-packages (3.7.5)\n",
      "Requirement already satisfied, skipping upgrade: python-dateutil>=2.7 in /Users/user/opt/anaconda3/lib/python3.8/site-packages (from matplotlib) (2.9.0.post0)\n",
      "Requirement already satisfied, skipping upgrade: cycler>=0.10 in /Users/user/opt/anaconda3/lib/python3.8/site-packages (from matplotlib) (0.10.0)\n",
      "Requirement already satisfied, skipping upgrade: kiwisolver>=1.0.1 in /Users/user/opt/anaconda3/lib/python3.8/site-packages (from matplotlib) (1.3.0)\n",
      "Requirement already satisfied, skipping upgrade: importlib-resources>=3.2.0; python_version < \"3.10\" in /Users/user/opt/anaconda3/lib/python3.8/site-packages (from matplotlib) (6.4.3)\n",
      "Requirement already satisfied, skipping upgrade: contourpy>=1.0.1 in /Users/user/opt/anaconda3/lib/python3.8/site-packages (from matplotlib) (1.1.1)\n",
      "Requirement already satisfied, skipping upgrade: fonttools>=4.22.0 in /Users/user/opt/anaconda3/lib/python3.8/site-packages (from matplotlib) (4.55.0)\n",
      "Requirement already satisfied, skipping upgrade: pillow>=6.2.0 in /Users/user/opt/anaconda3/lib/python3.8/site-packages (from matplotlib) (8.0.1)\n",
      "Requirement already satisfied, skipping upgrade: packaging>=20.0 in /Users/user/opt/anaconda3/lib/python3.8/site-packages (from matplotlib) (24.2)\n",
      "Requirement already satisfied, skipping upgrade: pyparsing>=2.3.1 in /Users/user/opt/anaconda3/lib/python3.8/site-packages (from matplotlib) (2.4.7)\n",
      "Requirement already satisfied, skipping upgrade: numpy<2,>=1.20 in /Users/user/opt/anaconda3/lib/python3.8/site-packages (from matplotlib) (1.22.2)\n",
      "Requirement already satisfied, skipping upgrade: six>=1.5 in /Users/user/opt/anaconda3/lib/python3.8/site-packages (from python-dateutil>=2.7->matplotlib) (1.15.0)\n",
      "Requirement already satisfied, skipping upgrade: zipp>=3.1.0; python_version < \"3.10\" in /Users/user/opt/anaconda3/lib/python3.8/site-packages (from importlib-resources>=3.2.0; python_version < \"3.10\"->matplotlib) (3.4.0)\n",
      "Note: you may need to restart the kernel to use updated packages.\n"
     ]
    }
   ],
   "source": [
    "pip install -U matplotlib"
   ]
  },
  {
   "cell_type": "markdown",
   "metadata": {},
   "source": [
    "We see there are still some outliers statistically, in yield column, area column and uv column. But these do not look as far from the main distribution as we saw in case of water= 5340. So We will not be removing these rows."
   ]
  },
  {
   "cell_type": "markdown",
   "metadata": {},
   "source": [
    "Based on the business understanding of the columns, here target variable is 'Yield', because this will decide how much money farm can earn, as output of farm is how much crop is its yield. So we will do this analysis based on this target columns.All other columns like water, uv, area of land, pesticides are input to the farming activity and crop yield is the output of this farming process."
   ]
  },
  {
   "cell_type": "code",
   "execution_count": 29,
   "metadata": {},
   "outputs": [],
   "source": [
    "main_numeric_df = main_df.loc[:, main_df.columns.isin(['water','uv','area','pesticides','yield'])]\n",
    "#main_selected_df.hist()"
   ]
  },
  {
   "cell_type": "code",
   "execution_count": 30,
   "metadata": {},
   "outputs": [
    {
     "data": {
      "text/html": [
       "<div>\n",
       "<style scoped>\n",
       "    .dataframe tbody tr th:only-of-type {\n",
       "        vertical-align: middle;\n",
       "    }\n",
       "\n",
       "    .dataframe tbody tr th {\n",
       "        vertical-align: top;\n",
       "    }\n",
       "\n",
       "    .dataframe thead th {\n",
       "        text-align: right;\n",
       "    }\n",
       "</style>\n",
       "<table border=\"1\" class=\"dataframe\">\n",
       "  <thead>\n",
       "    <tr style=\"text-align: right;\">\n",
       "      <th></th>\n",
       "      <th>water</th>\n",
       "      <th>uv</th>\n",
       "      <th>area</th>\n",
       "      <th>yield</th>\n",
       "      <th>pesticides</th>\n",
       "    </tr>\n",
       "  </thead>\n",
       "  <tbody>\n",
       "    <tr>\n",
       "      <th>0</th>\n",
       "      <td>5.615</td>\n",
       "      <td>65.281000</td>\n",
       "      <td>3.230</td>\n",
       "      <td>7.977</td>\n",
       "      <td>8.969</td>\n",
       "    </tr>\n",
       "    <tr>\n",
       "      <th>1</th>\n",
       "      <td>7.044</td>\n",
       "      <td>73.319000</td>\n",
       "      <td>9.081</td>\n",
       "      <td>23.009</td>\n",
       "      <td>7.197</td>\n",
       "    </tr>\n",
       "    <tr>\n",
       "      <th>2</th>\n",
       "      <td>5.607</td>\n",
       "      <td>60.038000</td>\n",
       "      <td>2.864</td>\n",
       "      <td>23.019</td>\n",
       "      <td>7.424</td>\n",
       "    </tr>\n",
       "    <tr>\n",
       "      <th>3</th>\n",
       "      <td>9.346</td>\n",
       "      <td>64.719000</td>\n",
       "      <td>2.797</td>\n",
       "      <td>28.066</td>\n",
       "      <td>1.256</td>\n",
       "    </tr>\n",
       "    <tr>\n",
       "      <th>4</th>\n",
       "      <td>7.969</td>\n",
       "      <td>73.957488</td>\n",
       "      <td>5.407</td>\n",
       "      <td>29.140</td>\n",
       "      <td>0.274</td>\n",
       "    </tr>\n",
       "  </tbody>\n",
       "</table>\n",
       "</div>"
      ],
      "text/plain": [
       "   water         uv   area   yield  pesticides\n",
       "0  5.615  65.281000  3.230   7.977       8.969\n",
       "1  7.044  73.319000  9.081  23.009       7.197\n",
       "2  5.607  60.038000  2.864  23.019       7.424\n",
       "3  9.346  64.719000  2.797  28.066       1.256\n",
       "4  7.969  73.957488  5.407  29.140       0.274"
      ]
     },
     "execution_count": 30,
     "metadata": {},
     "output_type": "execute_result"
    }
   ],
   "source": [
    "main_numeric_df.head()"
   ]
  },
  {
   "cell_type": "code",
   "execution_count": null,
   "metadata": {},
   "outputs": [],
   "source": []
  },
  {
   "cell_type": "code",
   "execution_count": null,
   "metadata": {},
   "outputs": [],
   "source": []
  },
  {
   "cell_type": "code",
   "execution_count": 31,
   "metadata": {},
   "outputs": [
    {
     "name": "stdout",
     "output_type": "stream",
     "text": [
      "Current Column being plotted..  water\n"
     ]
    },
    {
     "data": {
      "image/png": "[encoded data removed]",
      "text/plain": [
       "<Figure size 432x288 with 1 Axes>"
      ]
     },
     "metadata": {
      "needs_background": "light"
     },
     "output_type": "display_data"
    },
    {
     "name": "stdout",
     "output_type": "stream",
     "text": [
      "Current Column being plotted..  uv\n"
     ]
    },
    {
     "data": {
      "image/png": "[encoded data removed]",
      "text/plain": [
       "<Figure size 432x288 with 1 Axes>"
      ]
     },
     "metadata": {
      "needs_background": "light"
     },
     "output_type": "display_data"
    },
    {
     "name": "stdout",
     "output_type": "stream",
     "text": [
      "Current Column being plotted..  area\n"
     ]
    },
    {
     "data": {
      "image/png": "[encoded data removed]",
      "text/plain": [
       "<Figure size 432x288 with 1 Axes>"
      ]
     },
     "metadata": {
      "needs_background": "light"
     },
     "output_type": "display_data"
    },
    {
     "name": "stdout",
     "output_type": "stream",
     "text": [
      "Current Column being plotted..  yield\n"
     ]
    },
    {
     "data": {
      "image/png": "[encoded data removed]",
      "text/plain": [
       "<Figure size 432x288 with 1 Axes>"
      ]
     },
     "metadata": {
      "needs_background": "light"
     },
     "output_type": "display_data"
    },
    {
     "name": "stdout",
     "output_type": "stream",
     "text": [
      "Current Column being plotted..  pesticides\n"
     ]
    },
    {
     "data": {
      "image/png": "[encoded data removed]",
      "text/plain": [
       "<Figure size 432x288 with 1 Axes>"
      ]
     },
     "metadata": {
      "needs_background": "light"
     },
     "output_type": "display_data"
    }
   ],
   "source": [
    "import seaborn as sns\n",
    "\n",
    "#main_selected_df = main_df.loc[:, ~main_df.columns.isin(['id','categories'])]]\n",
    "\n",
    "\n",
    "# Loop through each column and plot a histogram\n",
    "for col in main_numeric_df.columns:\n",
    "    print(\"Current Column being plotted.. \",col)\n",
    "    plt.figure()\n",
    "    sns.histplot(main_numeric_df[col].to_numpy(), bins=10, kde=True)\n",
    "    plt.title(f'Histogram of {col}')\n",
    "    plt.show()\n",
    "\n",
    "\n"
   ]
  },
  {
   "cell_type": "markdown",
   "metadata": {},
   "source": [
    "We see these columns 'water','uv','yield','area' they have approx. normal distributions. pesticides looks more right skewed with larger values on the right side."
   ]
  },
  {
   "cell_type": "code",
   "execution_count": 32,
   "metadata": {},
   "outputs": [
    {
     "data": {
      "image/png": "[encoded data removed]",
      "text/plain": [
       "<Figure size 576x432 with 2 Axes>"
      ]
     },
     "metadata": {
      "needs_background": "light"
     },
     "output_type": "display_data"
    }
   ],
   "source": [
    "# Compute the correlation matrix\n",
    "correlation_matrix = main_numeric_df.corr()\n",
    "\n",
    "# Plot the heatmap\n",
    "plt.figure(figsize=(8, 6))\n",
    "sns.heatmap(correlation_matrix, annot=True, cmap='coolwarm', fmt='.2f', linewidths=0.5)\n",
    "plt.title('Correlation Heatmap')\n",
    "plt.show()"
   ]
  },
  {
   "cell_type": "markdown",
   "metadata": {},
   "source": [
    "We do not see any strong correlation(Something like more than 70% correlaition) among the numeric columns, which means the input features are mostly independent to each other. We do see a resonable(0.49) corrleation between area and yield, which makes sense because a larger farm field should result in a higher yield."
   ]
  },
  {
   "cell_type": "markdown",
   "metadata": {},
   "source": [
    "# Feature Egnineering"
   ]
  },
  {
   "cell_type": "markdown",
   "metadata": {},
   "source": [
    "We see that the last column is list of pesticides used. This column has two dimensions of information, No of pesticides used and actualy pesticides used. Lets create count of pesticides used as one column and one column for each of the pesticides used with 0 and 1 representing their presnece or absense."
   ]
  },
  {
   "cell_type": "code",
   "execution_count": 33,
   "metadata": {},
   "outputs": [],
   "source": [
    "# Step 1: Create a column with the count of characters in 'categories'\n",
    "main_df['category_count'] = main_df['categories'].apply(lambda x: len(x.split(',')))\n",
    "\n",
    "# Step 2: Create one-hot encoded columns for each character\n",
    "# Split the 'categories' column into lists of characters\n",
    "main_df['categories_list'] = main_df['categories'].apply(lambda x: x.split(','))\n",
    "\n",
    "\n"
   ]
  },
  {
   "cell_type": "code",
   "execution_count": 34,
   "metadata": {},
   "outputs": [
    {
     "data": {
      "text/html": [
       "<div>\n",
       "<style scoped>\n",
       "    .dataframe tbody tr th:only-of-type {\n",
       "        vertical-align: middle;\n",
       "    }\n",
       "\n",
       "    .dataframe tbody tr th {\n",
       "        vertical-align: top;\n",
       "    }\n",
       "\n",
       "    .dataframe thead th {\n",
       "        text-align: right;\n",
       "    }\n",
       "</style>\n",
       "<table border=\"1\" class=\"dataframe\">\n",
       "  <thead>\n",
       "    <tr style=\"text-align: right;\">\n",
       "      <th></th>\n",
       "      <th>id</th>\n",
       "      <th>water</th>\n",
       "      <th>uv</th>\n",
       "      <th>area</th>\n",
       "      <th>fertilizer_usage</th>\n",
       "      <th>yield</th>\n",
       "      <th>pesticides</th>\n",
       "      <th>region</th>\n",
       "      <th>categories</th>\n",
       "      <th>category_count</th>\n",
       "      <th>categories_list</th>\n",
       "    </tr>\n",
       "  </thead>\n",
       "  <tbody>\n",
       "    <tr>\n",
       "      <th>0</th>\n",
       "      <td>169</td>\n",
       "      <td>5.615</td>\n",
       "      <td>65.281000</td>\n",
       "      <td>3.230</td>\n",
       "      <td>0</td>\n",
       "      <td>7.977</td>\n",
       "      <td>8.969</td>\n",
       "      <td>0</td>\n",
       "      <td>b,a,c</td>\n",
       "      <td>3</td>\n",
       "      <td>[b, a, c]</td>\n",
       "    </tr>\n",
       "    <tr>\n",
       "      <th>1</th>\n",
       "      <td>476</td>\n",
       "      <td>7.044</td>\n",
       "      <td>73.319000</td>\n",
       "      <td>9.081</td>\n",
       "      <td>0</td>\n",
       "      <td>23.009</td>\n",
       "      <td>7.197</td>\n",
       "      <td>0</td>\n",
       "      <td>c,a,d</td>\n",
       "      <td>3</td>\n",
       "      <td>[c, a, d]</td>\n",
       "    </tr>\n",
       "    <tr>\n",
       "      <th>2</th>\n",
       "      <td>152</td>\n",
       "      <td>5.607</td>\n",
       "      <td>60.038000</td>\n",
       "      <td>2.864</td>\n",
       "      <td>2</td>\n",
       "      <td>23.019</td>\n",
       "      <td>7.424</td>\n",
       "      <td>0</td>\n",
       "      <td>d,a</td>\n",
       "      <td>2</td>\n",
       "      <td>[d, a]</td>\n",
       "    </tr>\n",
       "    <tr>\n",
       "      <th>3</th>\n",
       "      <td>293</td>\n",
       "      <td>9.346</td>\n",
       "      <td>64.719000</td>\n",
       "      <td>2.797</td>\n",
       "      <td>2</td>\n",
       "      <td>28.066</td>\n",
       "      <td>1.256</td>\n",
       "      <td>0</td>\n",
       "      <td>d</td>\n",
       "      <td>1</td>\n",
       "      <td>[d]</td>\n",
       "    </tr>\n",
       "    <tr>\n",
       "      <th>4</th>\n",
       "      <td>10</td>\n",
       "      <td>7.969</td>\n",
       "      <td>73.957488</td>\n",
       "      <td>5.407</td>\n",
       "      <td>1</td>\n",
       "      <td>29.140</td>\n",
       "      <td>0.274</td>\n",
       "      <td>0</td>\n",
       "      <td>c,d</td>\n",
       "      <td>2</td>\n",
       "      <td>[c, d]</td>\n",
       "    </tr>\n",
       "  </tbody>\n",
       "</table>\n",
       "</div>"
      ],
      "text/plain": [
       "    id  water         uv   area fertilizer_usage   yield  pesticides region  \\\n",
       "0  169  5.615  65.281000  3.230                0   7.977       8.969      0   \n",
       "1  476  7.044  73.319000  9.081                0  23.009       7.197      0   \n",
       "2  152  5.607  60.038000  2.864                2  23.019       7.424      0   \n",
       "3  293  9.346  64.719000  2.797                2  28.066       1.256      0   \n",
       "4   10  7.969  73.957488  5.407                1  29.140       0.274      0   \n",
       "\n",
       "  categories  category_count categories_list  \n",
       "0      b,a,c               3       [b, a, c]  \n",
       "1      c,a,d               3       [c, a, d]  \n",
       "2        d,a               2          [d, a]  \n",
       "3          d               1             [d]  \n",
       "4        c,d               2          [c, d]  "
      ]
     },
     "execution_count": 34,
     "metadata": {},
     "output_type": "execute_result"
    }
   ],
   "source": [
    "main_df.head()"
   ]
  },
  {
   "cell_type": "markdown",
   "metadata": {},
   "source": [
    "Lets create dummy variables for categories_list(which is comma separated list of pesticides used."
   ]
  },
  {
   "cell_type": "code",
   "execution_count": 35,
   "metadata": {},
   "outputs": [],
   "source": [
    "# One-Hot Encoding\n",
    "# One-Hot Encoding\n",
    "one_hot_encoded_df = main_df['categories_list'].explode().str.get_dummies().groupby(level=0).sum()\n",
    "\n",
    "# Add prefix to column names\n",
    "one_hot_encoded_df.columns = [f\"Categories_{col}\" for col in one_hot_encoded_df.columns]\n",
    "\n",
    "\n",
    "#one_hot_encoded = main_df['categories_list'].explode().str.get_dummies().sum(level=0)\n",
    "\n"
   ]
  },
  {
   "cell_type": "code",
   "execution_count": 36,
   "metadata": {},
   "outputs": [],
   "source": [
    "# Concatenate with original DataFrame\n",
    "main_one_hot_df = pd.concat([main_df, one_hot_encoded_df], axis=1)\n",
    "\n",
    "main_one_hot_df = main_one_hot_df.drop(['categories_list','categories'],axis = 1)\n",
    "#print(df_one_hot)"
   ]
  },
  {
   "cell_type": "code",
   "execution_count": 37,
   "metadata": {},
   "outputs": [
    {
     "data": {
      "text/html": [
       "<div>\n",
       "<style scoped>\n",
       "    .dataframe tbody tr th:only-of-type {\n",
       "        vertical-align: middle;\n",
       "    }\n",
       "\n",
       "    .dataframe tbody tr th {\n",
       "        vertical-align: top;\n",
       "    }\n",
       "\n",
       "    .dataframe thead th {\n",
       "        text-align: right;\n",
       "    }\n",
       "</style>\n",
       "<table border=\"1\" class=\"dataframe\">\n",
       "  <thead>\n",
       "    <tr style=\"text-align: right;\">\n",
       "      <th></th>\n",
       "      <th>id</th>\n",
       "      <th>water</th>\n",
       "      <th>uv</th>\n",
       "      <th>area</th>\n",
       "      <th>fertilizer_usage</th>\n",
       "      <th>yield</th>\n",
       "      <th>pesticides</th>\n",
       "      <th>region</th>\n",
       "      <th>category_count</th>\n",
       "      <th>Categories_a</th>\n",
       "      <th>Categories_b</th>\n",
       "      <th>Categories_c</th>\n",
       "      <th>Categories_d</th>\n",
       "    </tr>\n",
       "  </thead>\n",
       "  <tbody>\n",
       "    <tr>\n",
       "      <th>0</th>\n",
       "      <td>169</td>\n",
       "      <td>5.615</td>\n",
       "      <td>65.281000</td>\n",
       "      <td>3.230</td>\n",
       "      <td>0</td>\n",
       "      <td>7.977</td>\n",
       "      <td>8.969</td>\n",
       "      <td>0</td>\n",
       "      <td>3</td>\n",
       "      <td>1</td>\n",
       "      <td>1</td>\n",
       "      <td>1</td>\n",
       "      <td>0</td>\n",
       "    </tr>\n",
       "    <tr>\n",
       "      <th>1</th>\n",
       "      <td>476</td>\n",
       "      <td>7.044</td>\n",
       "      <td>73.319000</td>\n",
       "      <td>9.081</td>\n",
       "      <td>0</td>\n",
       "      <td>23.009</td>\n",
       "      <td>7.197</td>\n",
       "      <td>0</td>\n",
       "      <td>3</td>\n",
       "      <td>1</td>\n",
       "      <td>0</td>\n",
       "      <td>1</td>\n",
       "      <td>1</td>\n",
       "    </tr>\n",
       "    <tr>\n",
       "      <th>2</th>\n",
       "      <td>152</td>\n",
       "      <td>5.607</td>\n",
       "      <td>60.038000</td>\n",
       "      <td>2.864</td>\n",
       "      <td>2</td>\n",
       "      <td>23.019</td>\n",
       "      <td>7.424</td>\n",
       "      <td>0</td>\n",
       "      <td>2</td>\n",
       "      <td>1</td>\n",
       "      <td>0</td>\n",
       "      <td>0</td>\n",
       "      <td>1</td>\n",
       "    </tr>\n",
       "    <tr>\n",
       "      <th>3</th>\n",
       "      <td>293</td>\n",
       "      <td>9.346</td>\n",
       "      <td>64.719000</td>\n",
       "      <td>2.797</td>\n",
       "      <td>2</td>\n",
       "      <td>28.066</td>\n",
       "      <td>1.256</td>\n",
       "      <td>0</td>\n",
       "      <td>1</td>\n",
       "      <td>0</td>\n",
       "      <td>0</td>\n",
       "      <td>0</td>\n",
       "      <td>1</td>\n",
       "    </tr>\n",
       "    <tr>\n",
       "      <th>4</th>\n",
       "      <td>10</td>\n",
       "      <td>7.969</td>\n",
       "      <td>73.957488</td>\n",
       "      <td>5.407</td>\n",
       "      <td>1</td>\n",
       "      <td>29.140</td>\n",
       "      <td>0.274</td>\n",
       "      <td>0</td>\n",
       "      <td>2</td>\n",
       "      <td>0</td>\n",
       "      <td>0</td>\n",
       "      <td>1</td>\n",
       "      <td>1</td>\n",
       "    </tr>\n",
       "  </tbody>\n",
       "</table>\n",
       "</div>"
      ],
      "text/plain": [
       "    id  water         uv   area fertilizer_usage   yield  pesticides region  \\\n",
       "0  169  5.615  65.281000  3.230                0   7.977       8.969      0   \n",
       "1  476  7.044  73.319000  9.081                0  23.009       7.197      0   \n",
       "2  152  5.607  60.038000  2.864                2  23.019       7.424      0   \n",
       "3  293  9.346  64.719000  2.797                2  28.066       1.256      0   \n",
       "4   10  7.969  73.957488  5.407                1  29.140       0.274      0   \n",
       "\n",
       "   category_count  Categories_a  Categories_b  Categories_c  Categories_d  \n",
       "0               3             1             1             1             0  \n",
       "1               3             1             0             1             1  \n",
       "2               2             1             0             0             1  \n",
       "3               1             0             0             0             1  \n",
       "4               2             0             0             1             1  "
      ]
     },
     "execution_count": 37,
     "metadata": {},
     "output_type": "execute_result"
    }
   ],
   "source": [
    "main_one_hot_df.head()"
   ]
  },
  {
   "cell_type": "code",
   "execution_count": 38,
   "metadata": {},
   "outputs": [
    {
     "name": "stdout",
     "output_type": "stream",
     "text": [
      "<class 'pandas.core.frame.DataFrame'>\n",
      "Index: 999 entries, 0 to 999\n",
      "Data columns (total 13 columns):\n",
      " #   Column            Non-Null Count  Dtype  \n",
      "---  ------            --------------  -----  \n",
      " 0   id                999 non-null    int64  \n",
      " 1   water             999 non-null    float64\n",
      " 2   uv                999 non-null    float64\n",
      " 3   area              999 non-null    float64\n",
      " 4   fertilizer_usage  999 non-null    object \n",
      " 5   yield             999 non-null    float64\n",
      " 6   pesticides        999 non-null    float64\n",
      " 7   region            999 non-null    object \n",
      " 8   category_count    999 non-null    int64  \n",
      " 9   Categories_a      999 non-null    int64  \n",
      " 10  Categories_b      999 non-null    int64  \n",
      " 11  Categories_c      999 non-null    int64  \n",
      " 12  Categories_d      999 non-null    int64  \n",
      "dtypes: float64(5), int64(6), object(2)\n",
      "memory usage: 109.3+ KB\n"
     ]
    }
   ],
   "source": [
    "main_one_hot_df.info()"
   ]
  },
  {
   "cell_type": "markdown",
   "metadata": {},
   "source": [
    "Now we have new features representing the count of pesticide categories and one hot encoded columns for pesticides categories, so we have deleted the original list columns."
   ]
  },
  {
   "cell_type": "markdown",
   "metadata": {},
   "source": [
    "Now lets look at the box plot of output column 'yield' w.r.t other input categorial columns to check which features have an effect on the yield."
   ]
  },
  {
   "cell_type": "code",
   "execution_count": 39,
   "metadata": {},
   "outputs": [
    {
     "data": {
      "image/png": "[encoded data removed]",
      "text/plain": [
       "<Figure size 576x432 with 1 Axes>"
      ]
     },
     "metadata": {
      "needs_background": "light"
     },
     "output_type": "display_data"
    },
    {
     "data": {
      "image/png": "[encoded data removed]",
      "text/plain": [
       "<Figure size 576x432 with 1 Axes>"
      ]
     },
     "metadata": {
      "needs_background": "light"
     },
     "output_type": "display_data"
    }
   ],
   "source": [
    "# Get categorical columns\n",
    "categorical_cols = main_one_hot_df.select_dtypes(include=['object']).columns\n",
    "\n",
    "# Plot boxplots for each categorical column\n",
    "for col in categorical_cols:\n",
    "    plt.figure(figsize=(8, 6))\n",
    "    plt.boxplot([main_one_hot_df.loc[main_one_hot_df[col] == cat, 'yield'] for cat in main_one_hot_df[col].unique()], labels=main_one_hot_df[col].unique())\n",
    "    plt.title(f'Boxplot of Output by {col}')\n",
    "    plt.xlabel(col)\n",
    "    plt.ylabel('Output')\n",
    "    plt.show()"
   ]
  },
  {
   "cell_type": "markdown",
   "metadata": {},
   "source": [
    "We see the expected yield follows the increasing order for fertilizer typer 0 -> 5 in the same order.For example fertilizer_usage type '5' has the highest expected yield compared followed by type 4,3,2,1,0 etc. We also see that Region 4 has the highest expected yield followed by 3 and region 1. This shows that both region and fertiliezer type has an effect on the output colulmn yield."
   ]
  },
  {
   "cell_type": "markdown",
   "metadata": {},
   "source": [
    "Lets create dummy variables for region and fertilizer usage so that we can build a predictive model for yield column."
   ]
  },
  {
   "cell_type": "code",
   "execution_count": 133,
   "metadata": {},
   "outputs": [],
   "source": [
    "\n",
    "# One-Hot Encoding\n",
    "one_hot_fu_df = main_one_hot_df['fertilizer_usage'].explode().str.get_dummies().groupby(level=0).sum()\n",
    "one_hot_fu_df.columns = [f\"fertilizer_usage_{col}\" for col in one_hot_fu_df.columns]\n",
    "# Concatenate with original DataFrame\n",
    "one_hot_fu_df = pd.concat([main_one_hot_df, one_hot_fu_df], axis=1)\n",
    "\n",
    "\n",
    "\n"
   ]
  },
  {
   "cell_type": "code",
   "execution_count": 41,
   "metadata": {},
   "outputs": [
    {
     "data": {
      "text/html": [
       "<div>\n",
       "<style scoped>\n",
       "    .dataframe tbody tr th:only-of-type {\n",
       "        vertical-align: middle;\n",
       "    }\n",
       "\n",
       "    .dataframe tbody tr th {\n",
       "        vertical-align: top;\n",
       "    }\n",
       "\n",
       "    .dataframe thead th {\n",
       "        text-align: right;\n",
       "    }\n",
       "</style>\n",
       "<table border=\"1\" class=\"dataframe\">\n",
       "  <thead>\n",
       "    <tr style=\"text-align: right;\">\n",
       "      <th></th>\n",
       "      <th>id</th>\n",
       "      <th>water</th>\n",
       "      <th>uv</th>\n",
       "      <th>area</th>\n",
       "      <th>fertilizer_usage</th>\n",
       "      <th>yield</th>\n",
       "      <th>pesticides</th>\n",
       "      <th>region</th>\n",
       "      <th>category_count</th>\n",
       "      <th>Categories_a</th>\n",
       "      <th>Categories_b</th>\n",
       "      <th>Categories_c</th>\n",
       "      <th>Categories_d</th>\n",
       "      <th>fertilizer_usage_0</th>\n",
       "      <th>fertilizer_usage_1</th>\n",
       "      <th>fertilizer_usage_2</th>\n",
       "      <th>fertilizer_usage_3</th>\n",
       "      <th>fertilizer_usage_4</th>\n",
       "      <th>fertilizer_usage_5</th>\n",
       "    </tr>\n",
       "  </thead>\n",
       "  <tbody>\n",
       "    <tr>\n",
       "      <th>0</th>\n",
       "      <td>169</td>\n",
       "      <td>5.615</td>\n",
       "      <td>65.281000</td>\n",
       "      <td>3.230</td>\n",
       "      <td>0</td>\n",
       "      <td>7.977</td>\n",
       "      <td>8.969</td>\n",
       "      <td>0</td>\n",
       "      <td>3</td>\n",
       "      <td>1</td>\n",
       "      <td>1</td>\n",
       "      <td>1</td>\n",
       "      <td>0</td>\n",
       "      <td>1</td>\n",
       "      <td>0</td>\n",
       "      <td>0</td>\n",
       "      <td>0</td>\n",
       "      <td>0</td>\n",
       "      <td>0</td>\n",
       "    </tr>\n",
       "    <tr>\n",
       "      <th>1</th>\n",
       "      <td>476</td>\n",
       "      <td>7.044</td>\n",
       "      <td>73.319000</td>\n",
       "      <td>9.081</td>\n",
       "      <td>0</td>\n",
       "      <td>23.009</td>\n",
       "      <td>7.197</td>\n",
       "      <td>0</td>\n",
       "      <td>3</td>\n",
       "      <td>1</td>\n",
       "      <td>0</td>\n",
       "      <td>1</td>\n",
       "      <td>1</td>\n",
       "      <td>1</td>\n",
       "      <td>0</td>\n",
       "      <td>0</td>\n",
       "      <td>0</td>\n",
       "      <td>0</td>\n",
       "      <td>0</td>\n",
       "    </tr>\n",
       "    <tr>\n",
       "      <th>2</th>\n",
       "      <td>152</td>\n",
       "      <td>5.607</td>\n",
       "      <td>60.038000</td>\n",
       "      <td>2.864</td>\n",
       "      <td>2</td>\n",
       "      <td>23.019</td>\n",
       "      <td>7.424</td>\n",
       "      <td>0</td>\n",
       "      <td>2</td>\n",
       "      <td>1</td>\n",
       "      <td>0</td>\n",
       "      <td>0</td>\n",
       "      <td>1</td>\n",
       "      <td>0</td>\n",
       "      <td>0</td>\n",
       "      <td>1</td>\n",
       "      <td>0</td>\n",
       "      <td>0</td>\n",
       "      <td>0</td>\n",
       "    </tr>\n",
       "    <tr>\n",
       "      <th>3</th>\n",
       "      <td>293</td>\n",
       "      <td>9.346</td>\n",
       "      <td>64.719000</td>\n",
       "      <td>2.797</td>\n",
       "      <td>2</td>\n",
       "      <td>28.066</td>\n",
       "      <td>1.256</td>\n",
       "      <td>0</td>\n",
       "      <td>1</td>\n",
       "      <td>0</td>\n",
       "      <td>0</td>\n",
       "      <td>0</td>\n",
       "      <td>1</td>\n",
       "      <td>0</td>\n",
       "      <td>0</td>\n",
       "      <td>1</td>\n",
       "      <td>0</td>\n",
       "      <td>0</td>\n",
       "      <td>0</td>\n",
       "    </tr>\n",
       "    <tr>\n",
       "      <th>4</th>\n",
       "      <td>10</td>\n",
       "      <td>7.969</td>\n",
       "      <td>73.957488</td>\n",
       "      <td>5.407</td>\n",
       "      <td>1</td>\n",
       "      <td>29.140</td>\n",
       "      <td>0.274</td>\n",
       "      <td>0</td>\n",
       "      <td>2</td>\n",
       "      <td>0</td>\n",
       "      <td>0</td>\n",
       "      <td>1</td>\n",
       "      <td>1</td>\n",
       "      <td>0</td>\n",
       "      <td>1</td>\n",
       "      <td>0</td>\n",
       "      <td>0</td>\n",
       "      <td>0</td>\n",
       "      <td>0</td>\n",
       "    </tr>\n",
       "  </tbody>\n",
       "</table>\n",
       "</div>"
      ],
      "text/plain": [
       "    id  water         uv   area fertilizer_usage   yield  pesticides region  \\\n",
       "0  169  5.615  65.281000  3.230                0   7.977       8.969      0   \n",
       "1  476  7.044  73.319000  9.081                0  23.009       7.197      0   \n",
       "2  152  5.607  60.038000  2.864                2  23.019       7.424      0   \n",
       "3  293  9.346  64.719000  2.797                2  28.066       1.256      0   \n",
       "4   10  7.969  73.957488  5.407                1  29.140       0.274      0   \n",
       "\n",
       "   category_count  Categories_a  Categories_b  Categories_c  Categories_d  \\\n",
       "0               3             1             1             1             0   \n",
       "1               3             1             0             1             1   \n",
       "2               2             1             0             0             1   \n",
       "3               1             0             0             0             1   \n",
       "4               2             0             0             1             1   \n",
       "\n",
       "   fertilizer_usage_0  fertilizer_usage_1  fertilizer_usage_2  \\\n",
       "0                   1                   0                   0   \n",
       "1                   1                   0                   0   \n",
       "2                   0                   0                   1   \n",
       "3                   0                   0                   1   \n",
       "4                   0                   1                   0   \n",
       "\n",
       "   fertilizer_usage_3  fertilizer_usage_4  fertilizer_usage_5  \n",
       "0                   0                   0                   0  \n",
       "1                   0                   0                   0  \n",
       "2                   0                   0                   0  \n",
       "3                   0                   0                   0  \n",
       "4                   0                   0                   0  "
      ]
     },
     "execution_count": 41,
     "metadata": {},
     "output_type": "execute_result"
    }
   ],
   "source": [
    "one_hot_fu_df.head()"
   ]
  },
  {
   "cell_type": "code",
   "execution_count": 42,
   "metadata": {},
   "outputs": [],
   "source": [
    "one_hot_reg_df = main_one_hot_df['region'].explode().str.get_dummies().groupby(level=0).sum()\n",
    "one_hot_reg_df.columns = [f\"region_{col}\" for col in one_hot_reg_df.columns]\n",
    "\n",
    "\n",
    "one_hot_fu_reg_df = pd.concat([one_hot_fu_df, one_hot_reg_df], axis=1)\n",
    "\n",
    "\n"
   ]
  },
  {
   "cell_type": "code",
   "execution_count": 43,
   "metadata": {},
   "outputs": [
    {
     "data": {
      "text/html": [
       "<div>\n",
       "<style scoped>\n",
       "    .dataframe tbody tr th:only-of-type {\n",
       "        vertical-align: middle;\n",
       "    }\n",
       "\n",
       "    .dataframe tbody tr th {\n",
       "        vertical-align: top;\n",
       "    }\n",
       "\n",
       "    .dataframe thead th {\n",
       "        text-align: right;\n",
       "    }\n",
       "</style>\n",
       "<table border=\"1\" class=\"dataframe\">\n",
       "  <thead>\n",
       "    <tr style=\"text-align: right;\">\n",
       "      <th></th>\n",
       "      <th>id</th>\n",
       "      <th>water</th>\n",
       "      <th>uv</th>\n",
       "      <th>area</th>\n",
       "      <th>fertilizer_usage</th>\n",
       "      <th>yield</th>\n",
       "      <th>pesticides</th>\n",
       "      <th>region</th>\n",
       "      <th>category_count</th>\n",
       "      <th>Categories_a</th>\n",
       "      <th>...</th>\n",
       "      <th>fertilizer_usage_3</th>\n",
       "      <th>fertilizer_usage_4</th>\n",
       "      <th>fertilizer_usage_5</th>\n",
       "      <th>region_0</th>\n",
       "      <th>region_1</th>\n",
       "      <th>region_2</th>\n",
       "      <th>region_3</th>\n",
       "      <th>region_4</th>\n",
       "      <th>region_5</th>\n",
       "      <th>region_6</th>\n",
       "    </tr>\n",
       "  </thead>\n",
       "  <tbody>\n",
       "    <tr>\n",
       "      <th>0</th>\n",
       "      <td>169</td>\n",
       "      <td>5.615</td>\n",
       "      <td>65.281000</td>\n",
       "      <td>3.230</td>\n",
       "      <td>0</td>\n",
       "      <td>7.977</td>\n",
       "      <td>8.969</td>\n",
       "      <td>0</td>\n",
       "      <td>3</td>\n",
       "      <td>1</td>\n",
       "      <td>...</td>\n",
       "      <td>0</td>\n",
       "      <td>0</td>\n",
       "      <td>0</td>\n",
       "      <td>1</td>\n",
       "      <td>0</td>\n",
       "      <td>0</td>\n",
       "      <td>0</td>\n",
       "      <td>0</td>\n",
       "      <td>0</td>\n",
       "      <td>0</td>\n",
       "    </tr>\n",
       "    <tr>\n",
       "      <th>1</th>\n",
       "      <td>476</td>\n",
       "      <td>7.044</td>\n",
       "      <td>73.319000</td>\n",
       "      <td>9.081</td>\n",
       "      <td>0</td>\n",
       "      <td>23.009</td>\n",
       "      <td>7.197</td>\n",
       "      <td>0</td>\n",
       "      <td>3</td>\n",
       "      <td>1</td>\n",
       "      <td>...</td>\n",
       "      <td>0</td>\n",
       "      <td>0</td>\n",
       "      <td>0</td>\n",
       "      <td>1</td>\n",
       "      <td>0</td>\n",
       "      <td>0</td>\n",
       "      <td>0</td>\n",
       "      <td>0</td>\n",
       "      <td>0</td>\n",
       "      <td>0</td>\n",
       "    </tr>\n",
       "    <tr>\n",
       "      <th>2</th>\n",
       "      <td>152</td>\n",
       "      <td>5.607</td>\n",
       "      <td>60.038000</td>\n",
       "      <td>2.864</td>\n",
       "      <td>2</td>\n",
       "      <td>23.019</td>\n",
       "      <td>7.424</td>\n",
       "      <td>0</td>\n",
       "      <td>2</td>\n",
       "      <td>1</td>\n",
       "      <td>...</td>\n",
       "      <td>0</td>\n",
       "      <td>0</td>\n",
       "      <td>0</td>\n",
       "      <td>1</td>\n",
       "      <td>0</td>\n",
       "      <td>0</td>\n",
       "      <td>0</td>\n",
       "      <td>0</td>\n",
       "      <td>0</td>\n",
       "      <td>0</td>\n",
       "    </tr>\n",
       "    <tr>\n",
       "      <th>3</th>\n",
       "      <td>293</td>\n",
       "      <td>9.346</td>\n",
       "      <td>64.719000</td>\n",
       "      <td>2.797</td>\n",
       "      <td>2</td>\n",
       "      <td>28.066</td>\n",
       "      <td>1.256</td>\n",
       "      <td>0</td>\n",
       "      <td>1</td>\n",
       "      <td>0</td>\n",
       "      <td>...</td>\n",
       "      <td>0</td>\n",
       "      <td>0</td>\n",
       "      <td>0</td>\n",
       "      <td>1</td>\n",
       "      <td>0</td>\n",
       "      <td>0</td>\n",
       "      <td>0</td>\n",
       "      <td>0</td>\n",
       "      <td>0</td>\n",
       "      <td>0</td>\n",
       "    </tr>\n",
       "    <tr>\n",
       "      <th>4</th>\n",
       "      <td>10</td>\n",
       "      <td>7.969</td>\n",
       "      <td>73.957488</td>\n",
       "      <td>5.407</td>\n",
       "      <td>1</td>\n",
       "      <td>29.140</td>\n",
       "      <td>0.274</td>\n",
       "      <td>0</td>\n",
       "      <td>2</td>\n",
       "      <td>0</td>\n",
       "      <td>...</td>\n",
       "      <td>0</td>\n",
       "      <td>0</td>\n",
       "      <td>0</td>\n",
       "      <td>1</td>\n",
       "      <td>0</td>\n",
       "      <td>0</td>\n",
       "      <td>0</td>\n",
       "      <td>0</td>\n",
       "      <td>0</td>\n",
       "      <td>0</td>\n",
       "    </tr>\n",
       "  </tbody>\n",
       "</table>\n",
       "<p>5 rows × 26 columns</p>\n",
       "</div>"
      ],
      "text/plain": [
       "    id  water         uv   area fertilizer_usage   yield  pesticides region  \\\n",
       "0  169  5.615  65.281000  3.230                0   7.977       8.969      0   \n",
       "1  476  7.044  73.319000  9.081                0  23.009       7.197      0   \n",
       "2  152  5.607  60.038000  2.864                2  23.019       7.424      0   \n",
       "3  293  9.346  64.719000  2.797                2  28.066       1.256      0   \n",
       "4   10  7.969  73.957488  5.407                1  29.140       0.274      0   \n",
       "\n",
       "   category_count  Categories_a  ...  fertilizer_usage_3  fertilizer_usage_4  \\\n",
       "0               3             1  ...                   0                   0   \n",
       "1               3             1  ...                   0                   0   \n",
       "2               2             1  ...                   0                   0   \n",
       "3               1             0  ...                   0                   0   \n",
       "4               2             0  ...                   0                   0   \n",
       "\n",
       "   fertilizer_usage_5  region_0  region_1  region_2  region_3  region_4  \\\n",
       "0                   0         1         0         0         0         0   \n",
       "1                   0         1         0         0         0         0   \n",
       "2                   0         1         0         0         0         0   \n",
       "3                   0         1         0         0         0         0   \n",
       "4                   0         1         0         0         0         0   \n",
       "\n",
       "   region_5  region_6  \n",
       "0         0         0  \n",
       "1         0         0  \n",
       "2         0         0  \n",
       "3         0         0  \n",
       "4         0         0  \n",
       "\n",
       "[5 rows x 26 columns]"
      ]
     },
     "execution_count": 43,
     "metadata": {},
     "output_type": "execute_result"
    }
   ],
   "source": [
    "one_hot_fu_reg_df.head()"
   ]
  },
  {
   "cell_type": "code",
   "execution_count": 44,
   "metadata": {},
   "outputs": [
    {
     "data": {
      "text/html": [
       "<div>\n",
       "<style scoped>\n",
       "    .dataframe tbody tr th:only-of-type {\n",
       "        vertical-align: middle;\n",
       "    }\n",
       "\n",
       "    .dataframe tbody tr th {\n",
       "        vertical-align: top;\n",
       "    }\n",
       "\n",
       "    .dataframe thead th {\n",
       "        text-align: right;\n",
       "    }\n",
       "</style>\n",
       "<table border=\"1\" class=\"dataframe\">\n",
       "  <thead>\n",
       "    <tr style=\"text-align: right;\">\n",
       "      <th></th>\n",
       "      <th>id</th>\n",
       "      <th>water</th>\n",
       "      <th>uv</th>\n",
       "      <th>area</th>\n",
       "      <th>fertilizer_usage</th>\n",
       "      <th>yield</th>\n",
       "      <th>pesticides</th>\n",
       "      <th>region</th>\n",
       "      <th>category_count</th>\n",
       "      <th>Categories_a</th>\n",
       "      <th>Categories_b</th>\n",
       "      <th>Categories_c</th>\n",
       "      <th>Categories_d</th>\n",
       "      <th>fertilizer_usage_0</th>\n",
       "      <th>fertilizer_usage_1</th>\n",
       "      <th>fertilizer_usage_2</th>\n",
       "      <th>fertilizer_usage_3</th>\n",
       "      <th>fertilizer_usage_4</th>\n",
       "      <th>fertilizer_usage_5</th>\n",
       "    </tr>\n",
       "  </thead>\n",
       "  <tbody>\n",
       "    <tr>\n",
       "      <th>0</th>\n",
       "      <td>169</td>\n",
       "      <td>5.615</td>\n",
       "      <td>65.281000</td>\n",
       "      <td>3.230</td>\n",
       "      <td>0</td>\n",
       "      <td>7.977</td>\n",
       "      <td>8.969</td>\n",
       "      <td>0</td>\n",
       "      <td>3</td>\n",
       "      <td>1</td>\n",
       "      <td>1</td>\n",
       "      <td>1</td>\n",
       "      <td>0</td>\n",
       "      <td>1</td>\n",
       "      <td>0</td>\n",
       "      <td>0</td>\n",
       "      <td>0</td>\n",
       "      <td>0</td>\n",
       "      <td>0</td>\n",
       "    </tr>\n",
       "    <tr>\n",
       "      <th>1</th>\n",
       "      <td>476</td>\n",
       "      <td>7.044</td>\n",
       "      <td>73.319000</td>\n",
       "      <td>9.081</td>\n",
       "      <td>0</td>\n",
       "      <td>23.009</td>\n",
       "      <td>7.197</td>\n",
       "      <td>0</td>\n",
       "      <td>3</td>\n",
       "      <td>1</td>\n",
       "      <td>0</td>\n",
       "      <td>1</td>\n",
       "      <td>1</td>\n",
       "      <td>1</td>\n",
       "      <td>0</td>\n",
       "      <td>0</td>\n",
       "      <td>0</td>\n",
       "      <td>0</td>\n",
       "      <td>0</td>\n",
       "    </tr>\n",
       "    <tr>\n",
       "      <th>2</th>\n",
       "      <td>152</td>\n",
       "      <td>5.607</td>\n",
       "      <td>60.038000</td>\n",
       "      <td>2.864</td>\n",
       "      <td>2</td>\n",
       "      <td>23.019</td>\n",
       "      <td>7.424</td>\n",
       "      <td>0</td>\n",
       "      <td>2</td>\n",
       "      <td>1</td>\n",
       "      <td>0</td>\n",
       "      <td>0</td>\n",
       "      <td>1</td>\n",
       "      <td>0</td>\n",
       "      <td>0</td>\n",
       "      <td>1</td>\n",
       "      <td>0</td>\n",
       "      <td>0</td>\n",
       "      <td>0</td>\n",
       "    </tr>\n",
       "    <tr>\n",
       "      <th>3</th>\n",
       "      <td>293</td>\n",
       "      <td>9.346</td>\n",
       "      <td>64.719000</td>\n",
       "      <td>2.797</td>\n",
       "      <td>2</td>\n",
       "      <td>28.066</td>\n",
       "      <td>1.256</td>\n",
       "      <td>0</td>\n",
       "      <td>1</td>\n",
       "      <td>0</td>\n",
       "      <td>0</td>\n",
       "      <td>0</td>\n",
       "      <td>1</td>\n",
       "      <td>0</td>\n",
       "      <td>0</td>\n",
       "      <td>1</td>\n",
       "      <td>0</td>\n",
       "      <td>0</td>\n",
       "      <td>0</td>\n",
       "    </tr>\n",
       "    <tr>\n",
       "      <th>4</th>\n",
       "      <td>10</td>\n",
       "      <td>7.969</td>\n",
       "      <td>73.957488</td>\n",
       "      <td>5.407</td>\n",
       "      <td>1</td>\n",
       "      <td>29.140</td>\n",
       "      <td>0.274</td>\n",
       "      <td>0</td>\n",
       "      <td>2</td>\n",
       "      <td>0</td>\n",
       "      <td>0</td>\n",
       "      <td>1</td>\n",
       "      <td>1</td>\n",
       "      <td>0</td>\n",
       "      <td>1</td>\n",
       "      <td>0</td>\n",
       "      <td>0</td>\n",
       "      <td>0</td>\n",
       "      <td>0</td>\n",
       "    </tr>\n",
       "  </tbody>\n",
       "</table>\n",
       "</div>"
      ],
      "text/plain": [
       "    id  water         uv   area fertilizer_usage   yield  pesticides region  \\\n",
       "0  169  5.615  65.281000  3.230                0   7.977       8.969      0   \n",
       "1  476  7.044  73.319000  9.081                0  23.009       7.197      0   \n",
       "2  152  5.607  60.038000  2.864                2  23.019       7.424      0   \n",
       "3  293  9.346  64.719000  2.797                2  28.066       1.256      0   \n",
       "4   10  7.969  73.957488  5.407                1  29.140       0.274      0   \n",
       "\n",
       "   category_count  Categories_a  Categories_b  Categories_c  Categories_d  \\\n",
       "0               3             1             1             1             0   \n",
       "1               3             1             0             1             1   \n",
       "2               2             1             0             0             1   \n",
       "3               1             0             0             0             1   \n",
       "4               2             0             0             1             1   \n",
       "\n",
       "   fertilizer_usage_0  fertilizer_usage_1  fertilizer_usage_2  \\\n",
       "0                   1                   0                   0   \n",
       "1                   1                   0                   0   \n",
       "2                   0                   0                   1   \n",
       "3                   0                   0                   1   \n",
       "4                   0                   1                   0   \n",
       "\n",
       "   fertilizer_usage_3  fertilizer_usage_4  fertilizer_usage_5  \n",
       "0                   0                   0                   0  \n",
       "1                   0                   0                   0  \n",
       "2                   0                   0                   0  \n",
       "3                   0                   0                   0  \n",
       "4                   0                   0                   0  "
      ]
     },
     "execution_count": 44,
     "metadata": {},
     "output_type": "execute_result"
    }
   ],
   "source": [
    "one_hot_fu_df.head()"
   ]
  },
  {
   "cell_type": "markdown",
   "metadata": {},
   "source": [
    "Now we can drop the original columns for which we have created one hot encoded features."
   ]
  },
  {
   "cell_type": "code",
   "execution_count": 45,
   "metadata": {},
   "outputs": [],
   "source": [
    "one_hot_fu_reg_df = one_hot_fu_reg_df.drop(['id','region','fertilizer_usage'],axis = 1)"
   ]
  },
  {
   "cell_type": "code",
   "execution_count": null,
   "metadata": {},
   "outputs": [],
   "source": []
  },
  {
   "cell_type": "markdown",
   "metadata": {},
   "source": [
    "Now we will try to find the most important features of using random forest feature importance and xgboost feature importance."
   ]
  },
  {
   "cell_type": "code",
   "execution_count": 46,
   "metadata": {},
   "outputs": [],
   "source": [
    "import pandas as pd\n",
    "import xgboost as xgb\n",
    "from sklearn.ensemble import RandomForestRegressor\n",
    "from sklearn.model_selection import train_test_split\n",
    "import matplotlib.pyplot as plt\n",
    "\n",
    "\n",
    "#     Train a Random Forest model and plot feature importance.\n",
    "\n",
    "#     Args:\n",
    "#         df (pd.DataFrame): Input DataFrame with features and output column.\n",
    "#         output_column (str): Name of the output column.\n",
    "#         test_size (float, optional): Proportion of data for testing. Defaults to 0.2.\n",
    "#         n_estimators (int, optional): Number of trees in the Random Forest. Defaults to 100.\n",
    "\n",
    "\n",
    "def plot_rf_feature_importance(df, output_column, test_size=0.2, n_estimators=100):\n",
    " \n",
    "\n",
    "    # Split data into training and testing sets\n",
    "    X = df.drop(output_column, axis=1)  # input features\n",
    "    y = df[output_column]  # output feature\n",
    "    X_train, X_test, y_train, y_test = train_test_split(X, y, test_size=test_size, random_state=42)\n",
    "\n",
    "    # Train Random Forest model\n",
    "    rf_model = RandomForestRegressor(n_estimators=n_estimators, random_state=42)\n",
    "    rf_model.fit(X_train, y_train)\n",
    "\n",
    "    # Get feature importance\n",
    "    feature_importance = rf_model.feature_importances_\n",
    "\n",
    "    # Create a DataFrame with feature importance\n",
    "    fi_rf_df = pd.DataFrame({'Feature': X.columns, 'Importance': feature_importance})\n",
    "\n",
    "    # Sort the DataFrame by importance in descending order\n",
    "    fi_rf_df = fi_rf_df.sort_values(by='Importance', ascending=True)\n",
    "\n",
    "    # Plot feature importance\n",
    "    plt.figure(figsize=(10, 6))\n",
    "    plt.barh(fi_rf_df['Feature'], fi_rf_df['Importance'])\n",
    "    plt.xlabel('Feature Importance')\n",
    "    plt.ylabel('Feature')\n",
    "    plt.title('Random Forest Feature Importance')\n",
    "    plt.show()\n",
    "    \n",
    "\n",
    "def plot_xgb_feature_importance(df, output_column, test_size=0.2):\n",
    "    \"\"\"\n",
    "    Train an XGBoost model and plot feature importance.\n",
    "\n",
    "    Args:\n",
    "        df (pd.DataFrame): Input DataFrame with features and output column.\n",
    "        output_column (str): Name of the output column.\n",
    "        test_size (float, optional): Proportion of data for testing. Defaults to 0.2.\n",
    "    \"\"\"\n",
    "\n",
    "    # Split data into training and testing sets\n",
    "    X = df.drop(output_column, axis=1)  # input features\n",
    "    y = df[output_column]  # output feature\n",
    "    X_train, X_test, y_train, y_test = train_test_split(X, y, test_size=test_size, random_state=42)\n",
    "\n",
    "    # Train XGBoost model\n",
    "    xgb_model = xgb.XGBRegressor(objective='reg:squarederror', eval_metric='rmse')\n",
    "    xgb_model.fit(X_train, y_train)\n",
    "\n",
    "    # Get feature importance\n",
    "    feature_importance = xgb_model.feature_importances_\n",
    "\n",
    "    # Create a DataFrame with feature importance\n",
    "    fi_xg_df = pd.DataFrame({'Feature': X.columns, 'Importance': feature_importance})\n",
    "\n",
    "    # Sort the DataFrame by importance in descending order\n",
    "    fi_xg_df = fi_xg_df.sort_values(by='Importance', ascending=True)\n",
    "\n",
    "    # Plot feature importance\n",
    "    plt.figure(figsize=(10, 6))\n",
    "    plt.barh(fi_xg_df['Feature'], fi_xg_df['Importance'])\n",
    "    plt.xlabel('Feature Importance')\n",
    "    plt.ylabel('Feature')\n",
    "    plt.title('XGBoost Feature Importance')\n",
    "    plt.show()\n",
    "    return fi_xg_df\n",
    "\n",
    "\n",
    "\n"
   ]
  },
  {
   "cell_type": "code",
   "execution_count": 47,
   "metadata": {},
   "outputs": [
    {
     "data": {
      "image/png": "[encoded data removed]",
      "text/plain": [
       "<Figure size 720x432 with 1 Axes>"
      ]
     },
     "metadata": {
      "needs_background": "light"
     },
     "output_type": "display_data"
    }
   ],
   "source": [
    "rf_feat_importance_df = plot_rf_feature_importance(one_hot_fu_reg_df,'yield',)\n"
   ]
  },
  {
   "cell_type": "markdown",
   "metadata": {},
   "source": [
    "Random Forest shows that area,uv, pesticides,water followed by some types of fertilizer usage(0,1,2) and region(6,4) are most important features. Lets see What are the important features based on xgboost modelling."
   ]
  },
  {
   "cell_type": "code",
   "execution_count": 48,
   "metadata": {},
   "outputs": [
    {
     "data": {
      "text/html": [
       "<div>\n",
       "<style scoped>\n",
       "    .dataframe tbody tr th:only-of-type {\n",
       "        vertical-align: middle;\n",
       "    }\n",
       "\n",
       "    .dataframe tbody tr th {\n",
       "        vertical-align: top;\n",
       "    }\n",
       "\n",
       "    .dataframe thead th {\n",
       "        text-align: right;\n",
       "    }\n",
       "</style>\n",
       "<table border=\"1\" class=\"dataframe\">\n",
       "  <thead>\n",
       "    <tr style=\"text-align: right;\">\n",
       "      <th></th>\n",
       "      <th>water</th>\n",
       "      <th>uv</th>\n",
       "      <th>area</th>\n",
       "      <th>yield</th>\n",
       "      <th>pesticides</th>\n",
       "      <th>category_count</th>\n",
       "      <th>Categories_a</th>\n",
       "      <th>Categories_b</th>\n",
       "      <th>Categories_c</th>\n",
       "      <th>Categories_d</th>\n",
       "      <th>...</th>\n",
       "      <th>fertilizer_usage_3</th>\n",
       "      <th>fertilizer_usage_4</th>\n",
       "      <th>fertilizer_usage_5</th>\n",
       "      <th>region_0</th>\n",
       "      <th>region_1</th>\n",
       "      <th>region_2</th>\n",
       "      <th>region_3</th>\n",
       "      <th>region_4</th>\n",
       "      <th>region_5</th>\n",
       "      <th>region_6</th>\n",
       "    </tr>\n",
       "  </thead>\n",
       "  <tbody>\n",
       "    <tr>\n",
       "      <th>0</th>\n",
       "      <td>5.615</td>\n",
       "      <td>65.281000</td>\n",
       "      <td>3.230</td>\n",
       "      <td>7.977</td>\n",
       "      <td>8.969</td>\n",
       "      <td>3</td>\n",
       "      <td>1</td>\n",
       "      <td>1</td>\n",
       "      <td>1</td>\n",
       "      <td>0</td>\n",
       "      <td>...</td>\n",
       "      <td>0</td>\n",
       "      <td>0</td>\n",
       "      <td>0</td>\n",
       "      <td>1</td>\n",
       "      <td>0</td>\n",
       "      <td>0</td>\n",
       "      <td>0</td>\n",
       "      <td>0</td>\n",
       "      <td>0</td>\n",
       "      <td>0</td>\n",
       "    </tr>\n",
       "    <tr>\n",
       "      <th>1</th>\n",
       "      <td>7.044</td>\n",
       "      <td>73.319000</td>\n",
       "      <td>9.081</td>\n",
       "      <td>23.009</td>\n",
       "      <td>7.197</td>\n",
       "      <td>3</td>\n",
       "      <td>1</td>\n",
       "      <td>0</td>\n",
       "      <td>1</td>\n",
       "      <td>1</td>\n",
       "      <td>...</td>\n",
       "      <td>0</td>\n",
       "      <td>0</td>\n",
       "      <td>0</td>\n",
       "      <td>1</td>\n",
       "      <td>0</td>\n",
       "      <td>0</td>\n",
       "      <td>0</td>\n",
       "      <td>0</td>\n",
       "      <td>0</td>\n",
       "      <td>0</td>\n",
       "    </tr>\n",
       "    <tr>\n",
       "      <th>2</th>\n",
       "      <td>5.607</td>\n",
       "      <td>60.038000</td>\n",
       "      <td>2.864</td>\n",
       "      <td>23.019</td>\n",
       "      <td>7.424</td>\n",
       "      <td>2</td>\n",
       "      <td>1</td>\n",
       "      <td>0</td>\n",
       "      <td>0</td>\n",
       "      <td>1</td>\n",
       "      <td>...</td>\n",
       "      <td>0</td>\n",
       "      <td>0</td>\n",
       "      <td>0</td>\n",
       "      <td>1</td>\n",
       "      <td>0</td>\n",
       "      <td>0</td>\n",
       "      <td>0</td>\n",
       "      <td>0</td>\n",
       "      <td>0</td>\n",
       "      <td>0</td>\n",
       "    </tr>\n",
       "    <tr>\n",
       "      <th>3</th>\n",
       "      <td>9.346</td>\n",
       "      <td>64.719000</td>\n",
       "      <td>2.797</td>\n",
       "      <td>28.066</td>\n",
       "      <td>1.256</td>\n",
       "      <td>1</td>\n",
       "      <td>0</td>\n",
       "      <td>0</td>\n",
       "      <td>0</td>\n",
       "      <td>1</td>\n",
       "      <td>...</td>\n",
       "      <td>0</td>\n",
       "      <td>0</td>\n",
       "      <td>0</td>\n",
       "      <td>1</td>\n",
       "      <td>0</td>\n",
       "      <td>0</td>\n",
       "      <td>0</td>\n",
       "      <td>0</td>\n",
       "      <td>0</td>\n",
       "      <td>0</td>\n",
       "    </tr>\n",
       "    <tr>\n",
       "      <th>4</th>\n",
       "      <td>7.969</td>\n",
       "      <td>73.957488</td>\n",
       "      <td>5.407</td>\n",
       "      <td>29.140</td>\n",
       "      <td>0.274</td>\n",
       "      <td>2</td>\n",
       "      <td>0</td>\n",
       "      <td>0</td>\n",
       "      <td>1</td>\n",
       "      <td>1</td>\n",
       "      <td>...</td>\n",
       "      <td>0</td>\n",
       "      <td>0</td>\n",
       "      <td>0</td>\n",
       "      <td>1</td>\n",
       "      <td>0</td>\n",
       "      <td>0</td>\n",
       "      <td>0</td>\n",
       "      <td>0</td>\n",
       "      <td>0</td>\n",
       "      <td>0</td>\n",
       "    </tr>\n",
       "  </tbody>\n",
       "</table>\n",
       "<p>5 rows × 23 columns</p>\n",
       "</div>"
      ],
      "text/plain": [
       "   water         uv   area   yield  pesticides  category_count  Categories_a  \\\n",
       "0  5.615  65.281000  3.230   7.977       8.969               3             1   \n",
       "1  7.044  73.319000  9.081  23.009       7.197               3             1   \n",
       "2  5.607  60.038000  2.864  23.019       7.424               2             1   \n",
       "3  9.346  64.719000  2.797  28.066       1.256               1             0   \n",
       "4  7.969  73.957488  5.407  29.140       0.274               2             0   \n",
       "\n",
       "   Categories_b  Categories_c  Categories_d  ...  fertilizer_usage_3  \\\n",
       "0             1             1             0  ...                   0   \n",
       "1             0             1             1  ...                   0   \n",
       "2             0             0             1  ...                   0   \n",
       "3             0             0             1  ...                   0   \n",
       "4             0             1             1  ...                   0   \n",
       "\n",
       "   fertilizer_usage_4  fertilizer_usage_5  region_0  region_1  region_2  \\\n",
       "0                   0                   0         1         0         0   \n",
       "1                   0                   0         1         0         0   \n",
       "2                   0                   0         1         0         0   \n",
       "3                   0                   0         1         0         0   \n",
       "4                   0                   0         1         0         0   \n",
       "\n",
       "   region_3  region_4  region_5  region_6  \n",
       "0         0         0         0         0  \n",
       "1         0         0         0         0  \n",
       "2         0         0         0         0  \n",
       "3         0         0         0         0  \n",
       "4         0         0         0         0  \n",
       "\n",
       "[5 rows x 23 columns]"
      ]
     },
     "execution_count": 48,
     "metadata": {},
     "output_type": "execute_result"
    }
   ],
   "source": [
    "one_hot_fu_reg_df.head()"
   ]
  },
  {
   "cell_type": "code",
   "execution_count": 49,
   "metadata": {},
   "outputs": [
    {
     "data": {
      "image/png": "[encoded data removed]",
      "text/plain": [
       "<Figure size 720x432 with 1 Axes>"
      ]
     },
     "metadata": {
      "needs_background": "light"
     },
     "output_type": "display_data"
    }
   ],
   "source": [
    "xg_feat_importance_df = plot_xgb_feature_importance(one_hot_fu_reg_df,'yield',)"
   ]
  },
  {
   "cell_type": "markdown",
   "metadata": {},
   "source": [
    "We see that based on xgboost important features region(0,1,2,4,6,5), fertilizer usage types(0,1,4,2,5),pesticides, area, region(6,5,4) are the most important features for prediction of yield. We will use these columns for modelling we see that category count is also important features by both random forest and xgboost feature importance.We see that some some features can be controlled and modified by farm owners for example they can chose fertilizer, water input,pesticides but they can not change features like region of their farms unless they buy farms at some other place. We should always select a smaller model than a larger model. So I will use fertilizer (0,1,2,3,4,5),region(6,5,4),area,pesticides, water. Also we see that uv(sun light) per hectare has a very less variable importance. So we are considering below important features for actual modelling."
   ]
  },
  {
   "cell_type": "code",
   "execution_count": 96,
   "metadata": {},
   "outputs": [],
   "source": [
    "important_features = ['fertilizer_usage_0','fertilizer_usage_1','fertilizer_usage_2','fertilizer_usage_4','fertilizer_usage_5',\n",
    "                      'fertilizer_usage_3','region_6','region_5','region_4','pesticides','water','area','category_count','yield']"
   ]
  },
  {
   "cell_type": "code",
   "execution_count": 97,
   "metadata": {},
   "outputs": [
    {
     "data": {
      "text/html": [
       "<div>\n",
       "<style scoped>\n",
       "    .dataframe tbody tr th:only-of-type {\n",
       "        vertical-align: middle;\n",
       "    }\n",
       "\n",
       "    .dataframe tbody tr th {\n",
       "        vertical-align: top;\n",
       "    }\n",
       "\n",
       "    .dataframe thead th {\n",
       "        text-align: right;\n",
       "    }\n",
       "</style>\n",
       "<table border=\"1\" class=\"dataframe\">\n",
       "  <thead>\n",
       "    <tr style=\"text-align: right;\">\n",
       "      <th></th>\n",
       "      <th>water</th>\n",
       "      <th>uv</th>\n",
       "      <th>area</th>\n",
       "      <th>yield</th>\n",
       "      <th>pesticides</th>\n",
       "      <th>category_count</th>\n",
       "      <th>Categories_a</th>\n",
       "      <th>Categories_b</th>\n",
       "      <th>Categories_c</th>\n",
       "      <th>Categories_d</th>\n",
       "      <th>...</th>\n",
       "      <th>fertilizer_usage_3</th>\n",
       "      <th>fertilizer_usage_4</th>\n",
       "      <th>fertilizer_usage_5</th>\n",
       "      <th>region_0</th>\n",
       "      <th>region_1</th>\n",
       "      <th>region_2</th>\n",
       "      <th>region_3</th>\n",
       "      <th>region_4</th>\n",
       "      <th>region_5</th>\n",
       "      <th>region_6</th>\n",
       "    </tr>\n",
       "  </thead>\n",
       "  <tbody>\n",
       "    <tr>\n",
       "      <th>0</th>\n",
       "      <td>5.615</td>\n",
       "      <td>65.281000</td>\n",
       "      <td>3.230</td>\n",
       "      <td>7.977</td>\n",
       "      <td>8.969</td>\n",
       "      <td>3</td>\n",
       "      <td>1</td>\n",
       "      <td>1</td>\n",
       "      <td>1</td>\n",
       "      <td>0</td>\n",
       "      <td>...</td>\n",
       "      <td>0</td>\n",
       "      <td>0</td>\n",
       "      <td>0</td>\n",
       "      <td>1</td>\n",
       "      <td>0</td>\n",
       "      <td>0</td>\n",
       "      <td>0</td>\n",
       "      <td>0</td>\n",
       "      <td>0</td>\n",
       "      <td>0</td>\n",
       "    </tr>\n",
       "    <tr>\n",
       "      <th>1</th>\n",
       "      <td>7.044</td>\n",
       "      <td>73.319000</td>\n",
       "      <td>9.081</td>\n",
       "      <td>23.009</td>\n",
       "      <td>7.197</td>\n",
       "      <td>3</td>\n",
       "      <td>1</td>\n",
       "      <td>0</td>\n",
       "      <td>1</td>\n",
       "      <td>1</td>\n",
       "      <td>...</td>\n",
       "      <td>0</td>\n",
       "      <td>0</td>\n",
       "      <td>0</td>\n",
       "      <td>1</td>\n",
       "      <td>0</td>\n",
       "      <td>0</td>\n",
       "      <td>0</td>\n",
       "      <td>0</td>\n",
       "      <td>0</td>\n",
       "      <td>0</td>\n",
       "    </tr>\n",
       "    <tr>\n",
       "      <th>2</th>\n",
       "      <td>5.607</td>\n",
       "      <td>60.038000</td>\n",
       "      <td>2.864</td>\n",
       "      <td>23.019</td>\n",
       "      <td>7.424</td>\n",
       "      <td>2</td>\n",
       "      <td>1</td>\n",
       "      <td>0</td>\n",
       "      <td>0</td>\n",
       "      <td>1</td>\n",
       "      <td>...</td>\n",
       "      <td>0</td>\n",
       "      <td>0</td>\n",
       "      <td>0</td>\n",
       "      <td>1</td>\n",
       "      <td>0</td>\n",
       "      <td>0</td>\n",
       "      <td>0</td>\n",
       "      <td>0</td>\n",
       "      <td>0</td>\n",
       "      <td>0</td>\n",
       "    </tr>\n",
       "    <tr>\n",
       "      <th>3</th>\n",
       "      <td>9.346</td>\n",
       "      <td>64.719000</td>\n",
       "      <td>2.797</td>\n",
       "      <td>28.066</td>\n",
       "      <td>1.256</td>\n",
       "      <td>1</td>\n",
       "      <td>0</td>\n",
       "      <td>0</td>\n",
       "      <td>0</td>\n",
       "      <td>1</td>\n",
       "      <td>...</td>\n",
       "      <td>0</td>\n",
       "      <td>0</td>\n",
       "      <td>0</td>\n",
       "      <td>1</td>\n",
       "      <td>0</td>\n",
       "      <td>0</td>\n",
       "      <td>0</td>\n",
       "      <td>0</td>\n",
       "      <td>0</td>\n",
       "      <td>0</td>\n",
       "    </tr>\n",
       "    <tr>\n",
       "      <th>4</th>\n",
       "      <td>7.969</td>\n",
       "      <td>73.957488</td>\n",
       "      <td>5.407</td>\n",
       "      <td>29.140</td>\n",
       "      <td>0.274</td>\n",
       "      <td>2</td>\n",
       "      <td>0</td>\n",
       "      <td>0</td>\n",
       "      <td>1</td>\n",
       "      <td>1</td>\n",
       "      <td>...</td>\n",
       "      <td>0</td>\n",
       "      <td>0</td>\n",
       "      <td>0</td>\n",
       "      <td>1</td>\n",
       "      <td>0</td>\n",
       "      <td>0</td>\n",
       "      <td>0</td>\n",
       "      <td>0</td>\n",
       "      <td>0</td>\n",
       "      <td>0</td>\n",
       "    </tr>\n",
       "  </tbody>\n",
       "</table>\n",
       "<p>5 rows × 23 columns</p>\n",
       "</div>"
      ],
      "text/plain": [
       "   water         uv   area   yield  pesticides  category_count  Categories_a  \\\n",
       "0  5.615  65.281000  3.230   7.977       8.969               3             1   \n",
       "1  7.044  73.319000  9.081  23.009       7.197               3             1   \n",
       "2  5.607  60.038000  2.864  23.019       7.424               2             1   \n",
       "3  9.346  64.719000  2.797  28.066       1.256               1             0   \n",
       "4  7.969  73.957488  5.407  29.140       0.274               2             0   \n",
       "\n",
       "   Categories_b  Categories_c  Categories_d  ...  fertilizer_usage_3  \\\n",
       "0             1             1             0  ...                   0   \n",
       "1             0             1             1  ...                   0   \n",
       "2             0             0             1  ...                   0   \n",
       "3             0             0             1  ...                   0   \n",
       "4             0             1             1  ...                   0   \n",
       "\n",
       "   fertilizer_usage_4  fertilizer_usage_5  region_0  region_1  region_2  \\\n",
       "0                   0                   0         1         0         0   \n",
       "1                   0                   0         1         0         0   \n",
       "2                   0                   0         1         0         0   \n",
       "3                   0                   0         1         0         0   \n",
       "4                   0                   0         1         0         0   \n",
       "\n",
       "   region_3  region_4  region_5  region_6  \n",
       "0         0         0         0         0  \n",
       "1         0         0         0         0  \n",
       "2         0         0         0         0  \n",
       "3         0         0         0         0  \n",
       "4         0         0         0         0  \n",
       "\n",
       "[5 rows x 23 columns]"
      ]
     },
     "execution_count": 97,
     "metadata": {},
     "output_type": "execute_result"
    }
   ],
   "source": [
    "one_hot_fu_reg_df.head(5)"
   ]
  },
  {
   "cell_type": "markdown",
   "metadata": {},
   "source": [
    "# Actual Modeling"
   ]
  },
  {
   "cell_type": "code",
   "execution_count": 120,
   "metadata": {},
   "outputs": [],
   "source": [
    "import pandas as pd\n",
    "from sklearn.model_selection import cross_val_score, KFold\n",
    "from sklearn.linear_model import LinearRegression\n",
    "from sklearn.metrics import mean_squared_error, mean_absolute_error, mean_absolute_percentage_error,r2_score\n",
    "from sklearn.preprocessing import StandardScaler\n",
    "import numpy as np\n",
    "import statsmodels.api as sm\n",
    "\n",
    "class Modeling:\n",
    "    def __init__(self, df, output_column):\n",
    "        self.df = df\n",
    "        self.output_column = output_column\n",
    "        self.X = df.drop(output_column, axis=1)\n",
    "        self.y = df[output_column]\n",
    "    \n",
    "    def adjusted_r_squared(self, y_true, y_pred, n, k):\n",
    "        \"\"\"\n",
    "        Calculate adjusted R-squared.\n",
    "\n",
    "        Args:\n",
    "            y_true (array-like): Actual values.\n",
    "            y_pred (array-like): Predicted values.\n",
    "            n (int): Number of observations.\n",
    "            k (int): Number of features.\n",
    "\n",
    "        Returns:\n",
    "            float: Adjusted R-squared.\n",
    "        \"\"\"\n",
    "        r2 = r2_score(y_true, y_pred)\n",
    "        adjusted_r2 = 1 - (1 - r2) * (n - 1) / (n - k - 1)\n",
    "        return adjusted_r2\n",
    "\n",
    "    \n",
    "#         Linear Regression with cross-validation and standardization.\n",
    "\n",
    "#         Args:\n",
    "#             cv (int, optional): Number of folds for cross-validation. Defaults to 5.\n",
    "#             standardize_columns (list, optional): List of column names to standardize. Defaults to None.\n",
    "\n",
    "#         Returns:\n",
    "#             tuple: Results DataFrame, coefficients DataFrame, test sample with actual vs predicted values.\n",
    "        \n",
    "    def linear_regression(self, cv=5, standardize_columns=None):\n",
    "        \n",
    "        X_train, X_test, y_train, y_test = train_test_split(self.X, self.y, test_size=0.2, random_state=42)\n",
    "\n",
    "        if standardize_columns:\n",
    "            scaler = StandardScaler()\n",
    "            X_train[standardize_columns] = scaler.fit_transform(X_train[standardize_columns])\n",
    "            X_test[standardize_columns] = scaler.transform(X_test[standardize_columns])\n",
    "\n",
    "        # Statsmodels Linear Regression\n",
    "        X_train_sm = sm.add_constant(X_train)\n",
    "        model = sm.OLS(y_train, X_train_sm).fit()\n",
    "\n",
    "        # Cross-validation\n",
    "        kf = KFold(n_splits=cv, shuffle=True, random_state=42)\n",
    "        cv_scores = cross_val_score(LinearRegression(), X_train, y_train, cv=kf, scoring='neg_mean_squared_error')\n",
    "        cv_rmse = np.sqrt(-cv_scores)\n",
    "\n",
    "        # Predict on test data\n",
    "        y_pred_test = model.predict(sm.add_constant(X_test))\n",
    "\n",
    "        # Calculate accuracy measures\n",
    "        train_mse = mean_squared_error(y_train, model.predict(X_train_sm))\n",
    "        test_mse = mean_squared_error(y_test, y_pred_test)\n",
    "        train_rmse = np.sqrt(train_mse)\n",
    "        test_rmse = np.sqrt(test_mse)\n",
    "        train_mad = mean_absolute_error(y_train, model.predict(X_train_sm))\n",
    "        test_mad = mean_absolute_error(y_test, y_pred_test)\n",
    "        train_mape = mean_absolute_percentage_error(y_train, model.predict(X_train_sm))\n",
    "        test_mape = mean_absolute_percentage_error(y_test, y_pred_test)\n",
    "        adjusted_r_squared = model.rsquared_adj\n",
    "\n",
    "        # Create a DataFrame with results\n",
    "        results_df = pd.DataFrame({\n",
    "            'Metric': ['Train RMSE', 'Test RMSE', 'Train MAD', 'Test MAD', 'Train MAPE', 'Test MAPE', 'Adjusted R-Squared'],\n",
    "            'Value': [train_rmse, test_rmse, train_mad, test_mad, train_mape, test_mape, adjusted_r_squared]\n",
    "        })\n",
    "\n",
    "        # Create a DataFrame with coefficients\n",
    "        coefficients_df = pd.DataFrame({\n",
    "            'Feature': X_train.columns.tolist() + ['Constant'],\n",
    "            'Coefficient': model.params.tolist()\n",
    "        })\n",
    "\n",
    "        # Create a DataFrame with actual vs predicted values for test data\n",
    "        test_sample = pd.DataFrame({\n",
    "            'Actual': y_test,\n",
    "            'Predicted': y_pred_test\n",
    "        })\n",
    "\n",
    "        return results_df, coefficients_df, test_sample.sample(50)\n",
    "    \n",
    " #         Random Forest with grid search and cross-validation\n",
    "#         Args:\n",
    "#             cv (int, optional): Number of folds for cross-validation. Defaults to 5.\n",
    "#             param_grid (dict, optional): Hyperparameter grid for grid search. Defaults to None.\n",
    "\n",
    "#         Returns:\n",
    "#             tuple: Best parameters, results DataFrame, test sample with actual vs predicted values.\n",
    "\n",
    "    \n",
    "    def random_forest(self, cv=5, param_grid=None):\n",
    "        \n",
    "        X_train, X_test, y_train, y_test = train_test_split(self.X, self.y, test_size=0.2, random_state=42)\n",
    "\n",
    "        if param_grid is None:\n",
    "            param_grid = {\n",
    "                'n_estimators': [100, 200, 300],\n",
    "                'max_depth': [None, 5, 10],\n",
    "                'min_samples_split': [2, 5, 10]\n",
    "            }\n",
    "\n",
    "        model = RandomForestRegressor(random_state=42)\n",
    "        grid_search = GridSearchCV(model, param_grid, cv=cv, scoring='neg_mean_squared_error')\n",
    "        grid_search.fit(X_train, y_train)\n",
    "\n",
    "        y_pred_train = grid_search.best_estimator_.predict(X_train)\n",
    "        y_pred_test = grid_search.best_estimator_.predict(X_test)\n",
    "\n",
    "        # Calculate accuracy measures\n",
    "        train_mse = mean_squared_error(y_train, y_pred_train)\n",
    "        test_mse = mean_squared_error(y_test, y_pred_test)\n",
    "        train_rmse = np.sqrt(train_mse)\n",
    "        test_rmse = np.sqrt(test_mse)\n",
    "        train_mad = mean_absolute_error(y_train, y_pred_train)\n",
    "        test_mad = mean_absolute_error(y_test, y_pred_test)\n",
    "        train_mape = mean_absolute_percentage_error(y_train, y_pred_train)\n",
    "        test_mape = mean_absolute_percentage_error(y_test, y_pred_test)\n",
    "        \n",
    "        # Calculate adjusted R-squared\n",
    "        n = len(y_test)  # Number of observations\n",
    "        k = X_test.shape[1]  # Number of features\n",
    "        adjusted_r2 = self.adjusted_r_squared(y_test, y_pred_test, n, k)\n",
    "\n",
    "\n",
    "        # Create a DataFrame with results\n",
    "        results_df = pd.DataFrame({\n",
    "            'Metric': ['Train RMSE', 'Test RMSE', 'Train MAD', 'Test MAD', 'Train MAPE', 'Test MAPE', 'Adjusted R-squared'],\n",
    "            'Value': [train_rmse, test_rmse, train_mad, test_mad, train_mape, test_mape, adjusted_r2]\n",
    "        })\n",
    "\n",
    "        # Create a DataFrame with actual vs predicted values for test data\n",
    "        test_sample = pd.DataFrame({\n",
    "            'Actual': y_test,\n",
    "            'Predicted': y_pred_test\n",
    "        })\n",
    "\n",
    "        # Plot accuracy metrics against iterations\n",
    "        train_errors = []\n",
    "        test_errors = []\n",
    "        for i in range(1, grid_search.best_estimator_.n_estimators + 1):\n",
    "            model = RandomForestRegressor(n_estimators=i, random_state=42)\n",
    "            model.fit(X_train, y_train)\n",
    "            y_pred_train_iter = model.predict(X_train)\n",
    "            y_pred_test_iter = model.predict(X_test)\n",
    "            train_error = mean_squared_error(y_train, y_pred_train_iter)\n",
    "            test_error = mean_squared_error(y_test, y_pred_test_iter)\n",
    "            train_errors.append(train_error)\n",
    "            test_errors.append(test_error)\n",
    "\n",
    "        plt.plot(train_errors, label='Train Error')\n",
    "        plt.plot(test_errors, label='Test Error')\n",
    "        plt.xlabel('Iterations')\n",
    "        plt.ylabel('Mean Squared Error')\n",
    "        plt.title('Random Forest Error Plot')\n",
    "        plt.legend()\n",
    "        plt.show()\n",
    "\n",
    "        return grid_search.best_params_, results_df, test_sample.sample(50)\n",
    "    \n",
    "    \n",
    "#         XGBoost with grid search and cross-validation.\n",
    "\n",
    "#         Args:\n",
    "#             cv (int, optional): Number of folds for cross-validation. Defaults to 5.\n",
    "#             param_grid (dict, optional): Hyperparameter grid for grid search. Defaults to None.\n",
    "\n",
    "#         Returns:\n",
    "#             tuple: Best parameters, results DataFrame, test sample with actual vs predicted values.\n",
    "\n",
    "    def model_xgboost(self, cv=5, param_grid=None):\n",
    "        \n",
    "        X_train, X_test, y_train, y_test = train_test_split(self.X, self.y, test_size=0.2, random_state=42)\n",
    "\n",
    "        if param_grid is None:\n",
    "            param_grid = {\n",
    "                'max_depth': [3, 5, ],\n",
    "                'learning_rate': [0.1, 0.05],\n",
    "                'n_estimators': [50, 100],\n",
    "                'gamma': [0.1, 0.5],\n",
    "                'subsample': [0.5, 0.8],\n",
    "                'colsample_bytree': [0.5, 0.8],\n",
    "                'reg_alpha': [0, 0.1],\n",
    "                'reg_lambda': [0, 0.1]\n",
    "            }\n",
    "\n",
    "        model = XGBRegressor(random_state=42)\n",
    "        grid_search = GridSearchCV(model, param_grid, cv=cv, scoring='neg_mean_squared_error')\n",
    "        grid_search.fit(X_train, y_train)\n",
    "\n",
    "        y_pred_train = grid_search.best_estimator_.predict(X_train)\n",
    "        y_pred_test = grid_search.best_estimator_.predict(X_test)\n",
    "\n",
    "        # Calculate accuracy metrics\n",
    "        train_mse = mean_squared_error(y_train, y_pred_train)\n",
    "        test_mse = mean_squared_error(y_test, y_pred_test)\n",
    "        train_rmse = np.sqrt(train_mse)\n",
    "        test_rmse = np.sqrt(test_mse)\n",
    "        train_mad = mean_absolute_error(y_train, y_pred_train)\n",
    "        test_mad = mean_absolute_error(y_test, y_pred_test)\n",
    "        train_mape = mean_absolute_percentage_error(y_train, y_pred_train)\n",
    "        test_mape = mean_absolute_percentage_error(y_test, y_pred_test)\n",
    "        \n",
    "         # Calculate adjusted R-squared\n",
    "        n = len(y_test)  # Number of observations\n",
    "        k = X_test.shape[1]  # Number of features\n",
    "        adjusted_r2 = self.adjusted_r_squared(y_test, y_pred_test, n, k)\n",
    "\n",
    "\n",
    "        # Create a DataFrame with results\n",
    "        results_df = pd.DataFrame({\n",
    "            'Metric': ['Train RMSE', 'Test RMSE', 'Train MAD', 'Test MAD', 'Train MAPE', 'Test MAPE', 'Adjusted R-squared'],\n",
    "            'Value': [train_rmse, test_rmse, train_mad, test_mad, train_mape, test_mape, adjusted_r2]\n",
    "        })\n",
    "\n",
    "\n",
    "        # Create a DataFrame with actual vs predicted values for test data\n",
    "        test_sample = pd.DataFrame({\n",
    "            'Actual': y_test,\n",
    "            'Predicted': y_pred_test\n",
    "        })\n",
    "\n",
    "        # Plot accuracy metrics during training\n",
    "        train_errors = []\n",
    "        test_errors = []\n",
    "        for i in range(1, grid_search.best_estimator_.n_estimators + 1):\n",
    "            model = XGBRegressor(n_estimators=i, random_state=42)\n",
    "            model.fit(X_train, y_train)\n",
    "            y_pred_train_iter = model.predict(X_train)\n",
    "            y_pred_test_iter = model.predict(X_test)\n",
    "            train_error = mean_squared_error(y_train, y_pred_train_iter)\n",
    "            test_error = mean_squared_error(y_test, y_pred_test_iter)\n",
    "            train_errors.append(train_error)\n",
    "            test_errors.append(test_error)\n",
    "\n",
    "        plt.plot(train_errors, label='Train Error')\n",
    "        plt.plot(test_errors, label='Test Error')\n",
    "        plt.xlabel('Iterations')\n",
    "        plt.ylabel('Mean Squared Error')\n",
    "        plt.title('XGBoost Error Plot')\n",
    "        plt.legend()\n",
    "        plt.show()\n",
    "\n",
    "        return grid_search.best_params_, results_df, test_sample.sample(50)\n",
    "\n",
    "\n"
   ]
  },
  {
   "cell_type": "code",
   "execution_count": 121,
   "metadata": {},
   "outputs": [],
   "source": [
    "# Example usage:\n",
    "one_hot_imp_feature_df = one_hot_fu_reg_df[important_features]\n",
    "modeling = Modeling(one_hot_imp_feature_df, 'yield')\n"
   ]
  },
  {
   "cell_type": "code",
   "execution_count": 122,
   "metadata": {},
   "outputs": [
    {
     "name": "stdout",
     "output_type": "stream",
     "text": [
      "Results:\n",
      "               Metric      Value\n",
      "0          Train RMSE  12.744405\n",
      "1           Test RMSE  13.041140\n",
      "2           Train MAD  10.067901\n",
      "3            Test MAD   9.944883\n",
      "4          Train MAPE   0.224117\n",
      "5           Test MAPE   0.222278\n",
      "6  Adjusted R-Squared   0.718863\n",
      "Coefficients:\n",
      "               Feature  Coefficient\n",
      "0   fertilizer_usage_0    60.202318\n",
      "1   fertilizer_usage_1   -14.245090\n",
      "2   fertilizer_usage_2    -1.744262\n",
      "3   fertilizer_usage_4     5.711319\n",
      "4   fertilizer_usage_5    25.547018\n",
      "5   fertilizer_usage_3    30.242251\n",
      "6             region_6    14.691082\n",
      "7             region_5   -21.128487\n",
      "8             region_4   -23.086602\n",
      "9           pesticides     2.412243\n",
      "10               water     1.251273\n",
      "11                area     3.457359\n",
      "12      category_count    17.667350\n",
      "13            Constant    -1.111485\n",
      "Test Sample:\n",
      "     Actual  Predicted\n",
      "364  54.193  41.923153\n",
      "278  39.838  55.738191\n",
      "936  61.919  38.025207\n",
      "293  41.729  60.644963\n",
      "523  30.533  23.690547\n",
      "559  51.513  46.028397\n",
      "529  34.045  51.206517\n",
      "596  67.547  65.040113\n",
      "307  43.394  49.088014\n",
      "169  76.062  87.551417\n"
     ]
    }
   ],
   "source": [
    "#standardize_columns = \n",
    "lr_results_df, lr_coefficients_df, lr_test_sample = modeling.linear_regression(cv=5, standardize_columns = ['water', 'area','pesticides'])\n",
    "\n",
    "\n",
    "print(\"Results:\")\n",
    "print(lr_results_df.head(20))\n",
    "print(\"Coefficients:\")\n",
    "print(lr_coefficients_df)\n",
    "print(\"Test Sample:\")\n",
    "print(lr_test_sample.head(10))"
   ]
  },
  {
   "cell_type": "markdown",
   "metadata": {},
   "source": [
    "Now lets check some of the assmputions of the linear regression for example: homoscedasticity and milti collinearity."
   ]
  },
  {
   "cell_type": "code",
   "execution_count": 131,
   "metadata": {},
   "outputs": [
    {
     "data": {
      "image/png": "[encoded data removed]",
      "text/plain": [
       "<Figure size 432x288 with 1 Axes>"
      ]
     },
     "metadata": {
      "needs_background": "light"
     },
     "output_type": "display_data"
    },
    {
     "name": "stderr",
     "output_type": "stream",
     "text": [
      "/Users/user/opt/anaconda3/lib/python3.8/site-packages/seaborn/_decorators.py:36: FutureWarning: Pass the following variables as keyword args: x, y. From version 0.12, the only valid positional argument will be `data`, and passing other arguments without an explicit keyword will result in an error or misinterpretation.\n",
      "  warnings.warn(\n"
     ]
    },
    {
     "data": {
      "image/png": "[encoded data removed]",
      "text/plain": [
       "<Figure size 432x288 with 1 Axes>"
      ]
     },
     "metadata": {
      "needs_background": "light"
     },
     "output_type": "display_data"
    },
    {
     "name": "stdout",
     "output_type": "stream",
     "text": [
      "Breusch-Pagan test statistic: 0.046890038543245804\n",
      "Breusch-Pagan p-value: 0.828566008852273\n",
      "    VIF Factor            features\n",
      "0     5.893164  fertilizer_usage_0\n",
      "1     6.174677  fertilizer_usage_1\n",
      "2     5.290514  fertilizer_usage_2\n",
      "3     4.844043  fertilizer_usage_4\n",
      "4     2.786006  fertilizer_usage_5\n",
      "5     6.999778  fertilizer_usage_3\n",
      "6     1.213811            region_6\n",
      "7     1.074247            region_5\n",
      "8     1.171175            region_4\n",
      "9     1.008394          pesticides\n",
      "10    1.146337               water\n",
      "11    1.316561                area\n",
      "12    1.016596      category_count\n"
     ]
    }
   ],
   "source": [
    "# 1. Check if relationship is actually close to linear\n",
    "residuals = lr_test_sample.Actual - lr_test_sample.Predicted\n",
    "plt.scatter(lr_test_sample.Predicted, residuals)\n",
    "plt.xlabel('Predicted Values')\n",
    "plt.ylabel('Residuals')\n",
    "plt.title('Residual Plot')\n",
    "plt.show()\n",
    "\n",
    "# Check for non-random pattern in residuals\n",
    "sns.residplot(lr_test_sample.Predicted, residuals)\n",
    "plt.show()\n",
    "\n",
    "# 2. Check for Heteroscedasticity using Breusch-Pagan test\n",
    "from statsmodels.formula.api import ols\n",
    "from statsmodels.stats.diagnostic import het_breuschpagan\n",
    "\n",
    "# Create a DataFrame with y_test and residuals\n",
    "df = pd.DataFrame({'y_test': lr_test_sample.Actual, 'residuals': residuals})\n",
    "\n",
    "# Fit a linear model\n",
    "model = ols('residuals ~ y_test', data=df).fit()\n",
    "\n",
    "# Perform Breusch-Pagan test\n",
    "bp_test = het_breuschpagan(model.resid, model.model.exog)\n",
    "\n",
    "print(\"Breusch-Pagan test statistic:\", bp_test[0])\n",
    "print(\"Breusch-Pagan p-value:\", bp_test[1])\n",
    "\n",
    "# 3. Check for VIF (Variance Inflation Factor)\n",
    "from statsmodels.stats.outliers_influence import variance_inflation_factor\n",
    "\n",
    "# Create a DataFrame with all features\n",
    "X = pd.DataFrame({col: one_hot_imp_feature_df[col] for col in one_hot_imp_feature_df.columns if col != 'yield'})\n",
    "\n",
    "# Calculate VIF for each feature\n",
    "vif = pd.DataFrame()\n",
    "vif[\"VIF Factor\"] = [variance_inflation_factor(X.values, i) for i in range(X.shape[1])]\n",
    "vif[\"features\"] = X.columns\n",
    "\n",
    "print(vif)\n"
   ]
  },
  {
   "cell_type": "markdown",
   "metadata": {},
   "source": [
    "We see that residual plot of predicted vs residual does not show any cone like shape.also the breausch pagan test which checks assumption of homscedasticity(constant variance) does now show p 0.05, which means that we don't see enough evidence for presence of heteroscedasticity. also we see that VIF(Variance inflation factor) which checks presence of multi collinearity does not show any value more than > 10 which indicates there is no severe mlti colliniarity present. These evidence gives us a fare evidence that this linear regression model is not viltating assumptions."
   ]
  },
  {
   "cell_type": "markdown",
   "metadata": {},
   "source": [
    "We see that Adjusted R-square of the linear regression model is 0.71 which means 71% of the variance is explained by the model, which is a reasonably good number with the interpretability we get with linear regression. Also we see that root mean square error (RMSE) for training data is 12.74 and same for test data is 13.04.We also see that MAD(Mean absolute deviation) for test data(9.94) is lesser than train data MAD(10.06).This indicates that our model generalizes fairly well model is not severly overfitted. So, if interpretability of the model is important for us, we should use the linear model.\n",
    "\n",
    "This model shows that features fertilizer_usage_0,fertilizer_usage_4,fertilizer_usage_5,fertilizer_usage_3 has positive coefficients(60.20,5.71,25.54,30.24), Also we see that category_count(which represents number of persticides types used has a positive coefficient(17.66). The positive coefficients indicates that increasing features these has an increasing impact on yield. For example we see that use of fertilizer 0 increases the crop yield by (60.20) compared to when fertilier 0 is not used. Similarly use of fertilizer 3 increases the crop yield by (30.24) compared to when fertilier 0 is not used, where as fertilizer 1 and 2 has negative coefficients () which means using these actually is expected to decrease he yield. We can recommend to avoid fertilizer 1 and 2. \n",
    "\n",
    "Also we see that region 6 is expected to having a positive impact on the yield. water and area also has positive coefficients (1.25, 3.45) which means that we can increase yield by increasing water input.We also see some actual vs predicted yield from some test data rows. Now lets model it using random forest and see the value of metrics.\n",
    "\n"
   ]
  },
  {
   "cell_type": "code",
   "execution_count": 123,
   "metadata": {},
   "outputs": [
    {
     "data": {
      "image/png": "[encoded data removed]",
      "text/plain": [
       "<Figure size 432x288 with 1 Axes>"
      ]
     },
     "metadata": {
      "needs_background": "light"
     },
     "output_type": "display_data"
    },
    {
     "name": "stdout",
     "output_type": "stream",
     "text": [
      "Best Parameters:\n",
      "{'max_depth': None, 'min_samples_split': 2, 'n_estimators': 300}\n",
      "Results:\n",
      "               Metric      Value\n",
      "0          Train RMSE   4.142469\n",
      "1           Test RMSE  10.930570\n",
      "2           Train MAD   3.090021\n",
      "3            Test MAD   8.290783\n",
      "4          Train MAPE   0.067567\n",
      "5           Test MAPE   0.164684\n",
      "6  Adjusted R-squared   0.808367\n",
      "Test Sample:\n",
      "      Actual   Predicted\n",
      "740  143.218  105.441530\n",
      "121   55.399   41.310727\n",
      "775   47.321   63.465217\n",
      "381   58.239   42.019257\n",
      "219   21.142   29.463997\n",
      "293   41.729   36.980933\n",
      "353   51.860   53.518520\n",
      "534   36.103   28.149147\n",
      "975   77.373   63.771657\n",
      "319   45.314   31.325297\n",
      "278   39.838   47.943083\n",
      "815   23.874   32.288923\n",
      "824   29.895   35.085023\n",
      "412   64.370   68.062807\n",
      "598   68.347   67.818500\n",
      "954   68.505   71.653037\n",
      "592   66.577   65.270543\n",
      "347   50.892   47.866950\n",
      "260   35.012   40.752590\n",
      "222   22.288   25.872617\n",
      "328   46.867   39.459027\n",
      "896   50.185   57.107817\n",
      "383   58.407   58.308500\n",
      "826   30.133   44.874713\n",
      "571   57.420   49.581377\n",
      "399   61.784   54.805773\n",
      "820   27.002   29.759023\n",
      "73    35.202   47.486897\n",
      "595   67.511   69.294087\n",
      "995   98.673   93.531077\n",
      "56   109.148   88.851090\n",
      "900   51.148   60.766783\n",
      "798   85.120   99.705680\n",
      "71    33.206   39.527467\n",
      "29    53.135   53.010317\n",
      "559   51.513   45.101100\n",
      "514  139.425  105.311220\n",
      "60    17.272   23.353363\n",
      "678   69.490   79.461630\n",
      "434   68.010   71.894440\n",
      "140   63.186   53.728197\n",
      "948   65.086   60.120270\n",
      "774   46.902   56.889310\n",
      "214   18.405   23.922423\n",
      "299   42.821   52.656493\n",
      "543   41.035   56.558490\n",
      "291   41.611   37.873787\n",
      "329   46.925   48.144313\n",
      "907   52.470   73.660540\n",
      "111   51.024   39.400160\n"
     ]
    }
   ],
   "source": [
    "#rf_modeling = Modeling(one_hot_fu_reg_df, 'yield')  # Initialize the Modeling class\n",
    "rf_best_params, rf_results_df, rf_test_sample = modeling.random_forest(cv = 5)\n",
    "print(\"Best Parameters:\")\n",
    "print(rf_best_params)\n",
    "print(\"Results:\")\n",
    "print(rf_results_df)\n",
    "print(\"Test Sample:\")\n",
    "print(rf_test_sample)"
   ]
  },
  {
   "cell_type": "markdown",
   "metadata": {},
   "source": [
    "Modeling using random forest shows us that goodness of fit adjusted R-sqaure increases to 0.80 which means its a better fit. Random forest reduces the test RMSE(10.93) compared to linear regression(13.04), but its more than train RMSE(4.14) for Random forest. This gives us an evidence that although complex models have better predictibility, it overfits more than a simpler model. Also in terms of test MAD(8.29)(Mean absolute deviation), it does better than Linear regression(9.94) which means better prediction accuracy. But this increased prediction accuracy comes at a cost of less interpretability."
   ]
  },
  {
   "cell_type": "code",
   "execution_count": 125,
   "metadata": {},
   "outputs": [
    {
     "data": {
      "image/png": "[encoded data removed]",
      "text/plain": [
       "<Figure size 432x288 with 1 Axes>"
      ]
     },
     "metadata": {
      "needs_background": "light"
     },
     "output_type": "display_data"
    },
    {
     "name": "stdout",
     "output_type": "stream",
     "text": [
      "Best Parameters:\n",
      "{'colsample_bytree': 0.8, 'gamma': 0.1, 'learning_rate': 0.1, 'max_depth': 3, 'n_estimators': 100, 'reg_alpha': 0, 'reg_lambda': 0.1, 'subsample': 0.5}\n",
      "Results:\n",
      "               Metric     Value\n",
      "0          Train RMSE  6.596316\n",
      "1           Test RMSE  9.103736\n",
      "2           Train MAD  5.064118\n",
      "3            Test MAD  6.535388\n",
      "4          Train MAPE  0.105216\n",
      "5           Test MAPE  0.128897\n",
      "6  Adjusted R-squared  0.867070\n",
      "Test Sample:\n",
      "      Actual   Predicted\n",
      "527   33.178   33.532104\n",
      "522   29.685   33.286415\n",
      "97    46.165   43.598423\n",
      "238   29.194   30.496347\n",
      "236   28.673   41.397442\n",
      "635   97.062   84.117905\n",
      "222   22.288   27.088572\n",
      "711   93.102   86.075516\n",
      "737  130.695  114.528069\n",
      "219   21.142   22.460976\n",
      "514  139.425  114.017189\n",
      "515  140.157  108.184448\n",
      "873   44.242   47.137283\n",
      "424   65.210   66.338554\n",
      "740  143.218  108.142975\n",
      "679   70.897   80.899406\n",
      "936   61.919   53.392811\n",
      "844   35.764   39.712391\n",
      "930   60.004   69.236610\n",
      "775   47.321   51.459442\n",
      "825   29.959   20.000851\n",
      "465   78.449   63.947342\n",
      "329   46.925   47.683117\n",
      "185   90.212   89.275070\n",
      "297   42.565   38.431885\n",
      "995   98.673   87.540436\n",
      "598   68.347   70.236763\n",
      "787   63.537   61.477566\n",
      "121   55.399   55.924110\n",
      "535   36.151   30.845549\n",
      "353   51.860   54.289574\n",
      "724  106.113   86.071938\n",
      "77    38.580   39.674126\n",
      "313   44.347   52.079147\n",
      "621   84.233   85.891991\n",
      "543   41.035   56.701538\n",
      "454   76.032   79.473610\n",
      "867   42.423   40.377258\n",
      "798   85.120   71.227409\n",
      "835   33.832   37.015812\n",
      "761   39.093   38.183949\n",
      "529   34.045   38.989059\n",
      "871   43.779   47.295998\n",
      "794   73.614   54.415745\n",
      "469   79.611   72.249039\n",
      "789   64.586   66.976929\n",
      "517   23.033   28.338585\n",
      "594   67.319   71.204178\n",
      "680   71.319   58.143246\n",
      "579   60.183   57.459000\n"
     ]
    }
   ],
   "source": [
    "xgb_best_params, xgb_results_df, xgb_test_sample_df = modeling.model_xgboost(cv=5)\n",
    "print(\"Best Parameters:\")\n",
    "print(xgb_best_params)\n",
    "print(\"Results:\")\n",
    "print(xgb_results_df)\n",
    "print(\"Test Sample:\")\n",
    "print(xgb_test_sample_df)"
   ]
  },
  {
   "cell_type": "markdown",
   "metadata": {},
   "source": [
    "Modeling using XGBoost shows us that goodness of fit adjusted R-sqaure increases to 0.86 which means its a better fit. XGBoost reduces the test RMSE(9.10) compared to Random Forest(10.93),linear regression(13.04), but its more than train RMSE(6.59) for XGBoost. This gives us an evidence that although complex models have better predictibility, it overfits more than a simpler model. Also in terms of test MAD(6.53)(Mean absolute deviation), it does better than Random Forest(8.29) and Linear regression(9.94) which means better prediction accuracy. But this increased prediction accuracy comes at a cost of less interpretability."
   ]
  },
  {
   "cell_type": "markdown",
   "metadata": {},
   "source": [
    "Complex models can also be interpreted using SHAP values. But I would choose linear regression due to its simplicity and interpretability. This this business context will need more interpretability. As Farm owners will ask for reasons when we give them recommendations."
   ]
  },
  {
   "cell_type": "markdown",
   "metadata": {},
   "source": [
    "# Interesting Insights / Recommendations\n"
   ]
  },
  {
   "cell_type": "markdown",
   "metadata": {},
   "source": [
    "*All insights and recommendations needs a review/feedback from someone who has context about farming. This recommendations are not final and should be reviewed with farming experts.Below are some Insights/recommendations.\n",
    "\n",
    "1.Yield Column is the output variable and other features(water, area, pesticides, fertilizers, type of persicides) are the input features.Because crop yield is the output of farming process using which farmer earns money. \n",
    "\n",
    "2.We do see that there is a relationship between yield and input features we have as simple model like linear regression is able to explain close to 70% variance in the output variable. \n",
    "\n",
    "3.Some fertilizers like 0,5,3 have positive coefficients (60.20,5.71,25.54,30.24) in case of linear regression, which means using these fertilizers are expected to increase yield and farmers should use these fertilizers.\n",
    "\n",
    "4.Some fertilizers like 1,2 have negative coefficients in case of linear regression, which means using these fertilizers are expected to decreasing effect on yield. So farmers should avoid/stop these use of these fertilizers.\n",
    "\n",
    "5.Region 6 has a positive coeficient(14.69) and Region 5 and 4 have negative coefficiencets(-21.12,-23.08) which means that if its possible to reduce farming in region 4 and 5 and increase farming in region 6, it is expected to increases the yield. Although i agree, changing region of farming is be very difficult.\n",
    "\n",
    "6.Water per heactare has a positive coefficient(1.25). We recommend to increase the water input per hectares is expected to increase yield.\n",
    "\n",
    "7.Feature like uv(sun light received per hectare) does not have significant variance importance for modelling yield.\n"
   ]
  },
  {
   "cell_type": "markdown",
   "metadata": {},
   "source": [
    "# Conclusion"
   ]
  },
  {
   "cell_type": "markdown",
   "metadata": {},
   "source": [
    "I have analyzed the dataset. I have done outlier detection, missing value analysis, EDA(Exploratory Data Analysis), Feature Egnieering, Modelling, Checking assumptions of modeling(Linear regression), analyzing the accuracy and then i have highlighted some interesting inghts and recommendations.\n",
    "\n",
    "This analysis has provided valuable insights into the factors that influence crop yield. The results suggest that a combination of input features such as fertilizers, water, and region can explain approximately 70% of the variance in crop yield.\n",
    "The analysis highlights the importance of using specific fertilizers (0, 5, and 3) that have a positive impact on yield, while avoiding others (1 and 2) that may have a negative effect. Additionally, the results suggest that increasing water input per hectare and optimizing farming in regions with favorable conditions (such as Region 6) could lead to improved yields.\n",
    "While some factors, such as UV sunlight received per hectare, do not appear to have a significant impact on yield, the analysis provides a foundation for further investigation and optimization of farming practices.\n",
    "These insights and recommendations should be reviewed and validated by farming experts to ensure their accuracy and applicability in real-world farming scenarios."
   ]
  },
  {
   "cell_type": "markdown",
   "metadata": {},
   "source": [
    "# Future Analysis points"
   ]
  },
  {
   "cell_type": "markdown",
   "metadata": {},
   "source": [
    "1.Get the insights/recommendations reviewed with Farming experts/stake holders and incorporate their feedback.\n",
    "\n",
    "2.Reduce overfitting for complex models like Random Forest, XGBoost\n",
    "\n",
    "3.Work on improving the explainability of complex models using SHAP values and explain it in the narrative document.\n",
    "\n",
    "5.Implement some more models like Multi layer neural networks.\n",
    "\n",
    "6.Implement the modeling by transforming some input features or outpur features to see if it improves the prediction accuracy.\n",
    "\n",
    "7.Write the narravie of the solution which can be used to present the project to stake holders, take feedback, re iterate and finalize the narrative document.\n",
    "\n",
    "\n"
   ]
  },
  {
   "cell_type": "code",
   "execution_count": null,
   "metadata": {},
   "outputs": [],
   "source": []
  }
 ],
 "metadata": {
  "kernelspec": {
   "display_name": "Python 3",
   "language": "python",
   "name": "python3"
  },
  "language_info": {
   "codemirror_mode": {
    "name": "ipython",
    "version": 3
   },
   "file_extension": ".py",
   "mimetype": "text/x-python",
   "name": "python",
   "nbconvert_exporter": "python",
   "pygments_lexer": "ipython3",
   "version": "3.8.5"
  }
 },
 "nbformat": 4,
 "nbformat_minor": 4
}
